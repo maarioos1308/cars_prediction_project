{
 "cells": [
  {
   "cell_type": "markdown",
   "id": "05c2e988",
   "metadata": {
    "papermill": {
     "duration": 0.037705,
     "end_time": "2023-05-23T10:58:22.478880",
     "exception": false,
     "start_time": "2023-05-23T10:58:22.441175",
     "status": "completed"
    },
    "tags": []
   },
   "source": [
    "# **Importing all the essential libraries**"
   ]
  },
  {
   "cell_type": "code",
   "execution_count": 1,
   "id": "2e1b5dad",
   "metadata": {
    "execution": {
     "iopub.execute_input": "2023-05-23T10:58:22.552487Z",
     "iopub.status.busy": "2023-05-23T10:58:22.551501Z",
     "iopub.status.idle": "2023-05-23T10:58:24.330037Z",
     "shell.execute_reply": "2023-05-23T10:58:24.328550Z"
    },
    "papermill": {
     "duration": 1.814123,
     "end_time": "2023-05-23T10:58:24.333270",
     "exception": false,
     "start_time": "2023-05-23T10:58:22.519147",
     "status": "completed"
    },
    "tags": []
   },
   "outputs": [],
   "source": [
    "import pandas as pd\n",
    "import numpy as np\n",
    "from sklearn.preprocessing import StandardScaler\n",
    "from sklearn.preprocessing import OneHotEncoder\n",
    "from sklearn.preprocessing import OrdinalEncoder\n",
    "from sklearn.compose import ColumnTransformer"
   ]
  },
  {
   "cell_type": "code",
   "execution_count": 2,
   "id": "e9dba768",
   "metadata": {
    "execution": {
     "iopub.execute_input": "2023-05-23T10:58:24.395693Z",
     "iopub.status.busy": "2023-05-23T10:58:24.394583Z",
     "iopub.status.idle": "2023-05-23T10:59:11.669651Z",
     "shell.execute_reply": "2023-05-23T10:59:11.668182Z"
    },
    "papermill": {
     "duration": 47.310246,
     "end_time": "2023-05-23T10:59:11.673387",
     "exception": false,
     "start_time": "2023-05-23T10:58:24.363141",
     "status": "completed"
    },
    "tags": []
   },
   "outputs": [],
   "source": [
    "df = pd.read_csv('/Users/Asus/Desktop/vehicles.csv')"
   ]
  },
  {
   "cell_type": "markdown",
   "id": "d5ba665b",
   "metadata": {
    "papermill": {
     "duration": 0.029988,
     "end_time": "2023-05-23T10:59:11.735222",
     "exception": false,
     "start_time": "2023-05-23T10:59:11.705234",
     "status": "completed"
    },
    "tags": []
   },
   "source": [
    "# **Exploratory Data Analysis (EDA)**"
   ]
  },
  {
   "cell_type": "code",
   "execution_count": 3,
   "id": "a6a9de47",
   "metadata": {
    "execution": {
     "iopub.execute_input": "2023-05-23T10:59:11.799056Z",
     "iopub.status.busy": "2023-05-23T10:59:11.797833Z",
     "iopub.status.idle": "2023-05-23T10:59:11.875218Z",
     "shell.execute_reply": "2023-05-23T10:59:11.873769Z"
    },
    "papermill": {
     "duration": 0.112715,
     "end_time": "2023-05-23T10:59:11.878051",
     "exception": false,
     "start_time": "2023-05-23T10:59:11.765336",
     "status": "completed"
    },
    "tags": []
   },
   "outputs": [
    {
     "data": {
      "text/html": [
       "<div>\n",
       "<style scoped>\n",
       "    .dataframe tbody tr th:only-of-type {\n",
       "        vertical-align: middle;\n",
       "    }\n",
       "\n",
       "    .dataframe tbody tr th {\n",
       "        vertical-align: top;\n",
       "    }\n",
       "\n",
       "    .dataframe thead th {\n",
       "        text-align: right;\n",
       "    }\n",
       "</style>\n",
       "<table border=\"1\" class=\"dataframe\">\n",
       "  <thead>\n",
       "    <tr style=\"text-align: right;\">\n",
       "      <th></th>\n",
       "      <th>id</th>\n",
       "      <th>url</th>\n",
       "      <th>region</th>\n",
       "      <th>region_url</th>\n",
       "      <th>price</th>\n",
       "      <th>year</th>\n",
       "      <th>manufacturer</th>\n",
       "      <th>model</th>\n",
       "      <th>condition</th>\n",
       "      <th>cylinders</th>\n",
       "      <th>...</th>\n",
       "      <th>size</th>\n",
       "      <th>type</th>\n",
       "      <th>paint_color</th>\n",
       "      <th>image_url</th>\n",
       "      <th>description</th>\n",
       "      <th>county</th>\n",
       "      <th>state</th>\n",
       "      <th>lat</th>\n",
       "      <th>long</th>\n",
       "      <th>posting_date</th>\n",
       "    </tr>\n",
       "  </thead>\n",
       "  <tbody>\n",
       "    <tr>\n",
       "      <th>207052</th>\n",
       "      <td>7302796683</td>\n",
       "      <td>https://monroemi.craigslist.org/ctd/d/chesanin...</td>\n",
       "      <td>monroe</td>\n",
       "      <td>https://monroemi.craigslist.org</td>\n",
       "      <td>7995</td>\n",
       "      <td>2011.0</td>\n",
       "      <td>ford</td>\n",
       "      <td>explorer</td>\n",
       "      <td>NaN</td>\n",
       "      <td>NaN</td>\n",
       "      <td>...</td>\n",
       "      <td>NaN</td>\n",
       "      <td>NaN</td>\n",
       "      <td>NaN</td>\n",
       "      <td>https://images.craigslist.org/00S0S_3mdM8f2QvY...</td>\n",
       "      <td>WE HAVE OVER 500 VEHICLES IN STOCK!   See our ...</td>\n",
       "      <td>NaN</td>\n",
       "      <td>mi</td>\n",
       "      <td>43.182400</td>\n",
       "      <td>-84.112200</td>\n",
       "      <td>2021-04-06T16:23:25-0400</td>\n",
       "    </tr>\n",
       "    <tr>\n",
       "      <th>23498</th>\n",
       "      <td>7302894289</td>\n",
       "      <td>https://bakersfield.craigslist.org/ctd/d/fonta...</td>\n",
       "      <td>bakersfield</td>\n",
       "      <td>https://bakersfield.craigslist.org</td>\n",
       "      <td>0</td>\n",
       "      <td>2014.0</td>\n",
       "      <td>ram</td>\n",
       "      <td>3500</td>\n",
       "      <td>NaN</td>\n",
       "      <td>NaN</td>\n",
       "      <td>...</td>\n",
       "      <td>NaN</td>\n",
       "      <td>NaN</td>\n",
       "      <td>white</td>\n",
       "      <td>https://images.craigslist.org/00f0f_8ULjfYPk29...</td>\n",
       "      <td>2014 Ram 3500 Tradesman RWD 2D Standard Cab  6...</td>\n",
       "      <td>NaN</td>\n",
       "      <td>ca</td>\n",
       "      <td>34.070311</td>\n",
       "      <td>-117.446303</td>\n",
       "      <td>2021-04-06T16:38:21-0700</td>\n",
       "    </tr>\n",
       "    <tr>\n",
       "      <th>348080</th>\n",
       "      <td>7309105382</td>\n",
       "      <td>https://greenville.craigslist.org/ctd/d/mini-c...</td>\n",
       "      <td>greenville / upstate</td>\n",
       "      <td>https://greenville.craigslist.org</td>\n",
       "      <td>12998</td>\n",
       "      <td>2014.0</td>\n",
       "      <td>mini</td>\n",
       "      <td>countryman</td>\n",
       "      <td>NaN</td>\n",
       "      <td>4 cylinders</td>\n",
       "      <td>...</td>\n",
       "      <td>compact</td>\n",
       "      <td>SUV</td>\n",
       "      <td>black</td>\n",
       "      <td>https://images.craigslist.org/00T0T_7vkzqMZ0iv...</td>\n",
       "      <td>2014 MINI Cooper Countryman Panoramic Sunroof ...</td>\n",
       "      <td>NaN</td>\n",
       "      <td>sc</td>\n",
       "      <td>NaN</td>\n",
       "      <td>NaN</td>\n",
       "      <td>2021-04-19T02:31:45-0400</td>\n",
       "    </tr>\n",
       "    <tr>\n",
       "      <th>271653</th>\n",
       "      <td>7307740558</td>\n",
       "      <td>https://ithaca.craigslist.org/cto/d/newfield-2...</td>\n",
       "      <td>ithaca</td>\n",
       "      <td>https://ithaca.craigslist.org</td>\n",
       "      <td>10500</td>\n",
       "      <td>2003.0</td>\n",
       "      <td>ford</td>\n",
       "      <td>f350 super duty</td>\n",
       "      <td>good</td>\n",
       "      <td>10 cylinders</td>\n",
       "      <td>...</td>\n",
       "      <td>NaN</td>\n",
       "      <td>NaN</td>\n",
       "      <td>NaN</td>\n",
       "      <td>https://images.craigslist.org/00S0S_CNuM4h8nvn...</td>\n",
       "      <td>2003 Ford F-350 Super Duty 4x4 with a snowplow...</td>\n",
       "      <td>NaN</td>\n",
       "      <td>ny</td>\n",
       "      <td>42.362100</td>\n",
       "      <td>-76.592000</td>\n",
       "      <td>2021-04-16T11:56:03-0400</td>\n",
       "    </tr>\n",
       "    <tr>\n",
       "      <th>65646</th>\n",
       "      <td>7308768744</td>\n",
       "      <td>https://stockton.craigslist.org/ctd/d/san-rafa...</td>\n",
       "      <td>stockton</td>\n",
       "      <td>https://stockton.craigslist.org</td>\n",
       "      <td>37988</td>\n",
       "      <td>2016.0</td>\n",
       "      <td>rover</td>\n",
       "      <td>lr4 hse</td>\n",
       "      <td>excellent</td>\n",
       "      <td>6 cylinders</td>\n",
       "      <td>...</td>\n",
       "      <td>NaN</td>\n",
       "      <td>SUV</td>\n",
       "      <td>NaN</td>\n",
       "      <td>https://images.craigslist.org/00T0T_kijqbGVPhs...</td>\n",
       "      <td>2016 Land Rover LR4 LR 4 LR-4 HSE FOR ONLY $55...</td>\n",
       "      <td>NaN</td>\n",
       "      <td>ca</td>\n",
       "      <td>37.963201</td>\n",
       "      <td>-122.509472</td>\n",
       "      <td>2021-04-18T09:02:39-0700</td>\n",
       "    </tr>\n",
       "  </tbody>\n",
       "</table>\n",
       "<p>5 rows × 26 columns</p>\n",
       "</div>"
      ],
      "text/plain": [
       "                id                                                url  \\\n",
       "207052  7302796683  https://monroemi.craigslist.org/ctd/d/chesanin...   \n",
       "23498   7302894289  https://bakersfield.craigslist.org/ctd/d/fonta...   \n",
       "348080  7309105382  https://greenville.craigslist.org/ctd/d/mini-c...   \n",
       "271653  7307740558  https://ithaca.craigslist.org/cto/d/newfield-2...   \n",
       "65646   7308768744  https://stockton.craigslist.org/ctd/d/san-rafa...   \n",
       "\n",
       "                      region                          region_url  price  \\\n",
       "207052                monroe     https://monroemi.craigslist.org   7995   \n",
       "23498            bakersfield  https://bakersfield.craigslist.org      0   \n",
       "348080  greenville / upstate   https://greenville.craigslist.org  12998   \n",
       "271653                ithaca       https://ithaca.craigslist.org  10500   \n",
       "65646               stockton     https://stockton.craigslist.org  37988   \n",
       "\n",
       "          year manufacturer            model  condition     cylinders  ...  \\\n",
       "207052  2011.0         ford         explorer        NaN           NaN  ...   \n",
       "23498   2014.0          ram             3500        NaN           NaN  ...   \n",
       "348080  2014.0         mini       countryman        NaN   4 cylinders  ...   \n",
       "271653  2003.0         ford  f350 super duty       good  10 cylinders  ...   \n",
       "65646   2016.0        rover          lr4 hse  excellent   6 cylinders  ...   \n",
       "\n",
       "           size  type paint_color  \\\n",
       "207052      NaN   NaN         NaN   \n",
       "23498       NaN   NaN       white   \n",
       "348080  compact   SUV       black   \n",
       "271653      NaN   NaN         NaN   \n",
       "65646       NaN   SUV         NaN   \n",
       "\n",
       "                                                image_url  \\\n",
       "207052  https://images.craigslist.org/00S0S_3mdM8f2QvY...   \n",
       "23498   https://images.craigslist.org/00f0f_8ULjfYPk29...   \n",
       "348080  https://images.craigslist.org/00T0T_7vkzqMZ0iv...   \n",
       "271653  https://images.craigslist.org/00S0S_CNuM4h8nvn...   \n",
       "65646   https://images.craigslist.org/00T0T_kijqbGVPhs...   \n",
       "\n",
       "                                              description county state  \\\n",
       "207052  WE HAVE OVER 500 VEHICLES IN STOCK!   See our ...    NaN    mi   \n",
       "23498   2014 Ram 3500 Tradesman RWD 2D Standard Cab  6...    NaN    ca   \n",
       "348080  2014 MINI Cooper Countryman Panoramic Sunroof ...    NaN    sc   \n",
       "271653  2003 Ford F-350 Super Duty 4x4 with a snowplow...    NaN    ny   \n",
       "65646   2016 Land Rover LR4 LR 4 LR-4 HSE FOR ONLY $55...    NaN    ca   \n",
       "\n",
       "              lat        long              posting_date  \n",
       "207052  43.182400  -84.112200  2021-04-06T16:23:25-0400  \n",
       "23498   34.070311 -117.446303  2021-04-06T16:38:21-0700  \n",
       "348080        NaN         NaN  2021-04-19T02:31:45-0400  \n",
       "271653  42.362100  -76.592000  2021-04-16T11:56:03-0400  \n",
       "65646   37.963201 -122.509472  2021-04-18T09:02:39-0700  \n",
       "\n",
       "[5 rows x 26 columns]"
      ]
     },
     "execution_count": 3,
     "metadata": {},
     "output_type": "execute_result"
    }
   ],
   "source": [
    "df.sample(5)"
   ]
  },
  {
   "cell_type": "code",
   "execution_count": 4,
   "id": "36656556",
   "metadata": {
    "execution": {
     "iopub.execute_input": "2023-05-23T10:59:11.943849Z",
     "iopub.status.busy": "2023-05-23T10:59:11.942566Z",
     "iopub.status.idle": "2023-05-23T10:59:11.949593Z",
     "shell.execute_reply": "2023-05-23T10:59:11.948643Z"
    },
    "papermill": {
     "duration": 0.042284,
     "end_time": "2023-05-23T10:59:11.951983",
     "exception": false,
     "start_time": "2023-05-23T10:59:11.909699",
     "status": "completed"
    },
    "tags": []
   },
   "outputs": [
    {
     "data": {
      "text/plain": [
       "(426880, 26)"
      ]
     },
     "execution_count": 4,
     "metadata": {},
     "output_type": "execute_result"
    }
   ],
   "source": [
    "df.shape"
   ]
  },
  {
   "cell_type": "code",
   "execution_count": 5,
   "id": "ee8a2089",
   "metadata": {
    "execution": {
     "iopub.execute_input": "2023-05-23T10:59:12.016723Z",
     "iopub.status.busy": "2023-05-23T10:59:12.015676Z",
     "iopub.status.idle": "2023-05-23T10:59:12.023791Z",
     "shell.execute_reply": "2023-05-23T10:59:12.022521Z"
    },
    "papermill": {
     "duration": 0.043921,
     "end_time": "2023-05-23T10:59:12.026634",
     "exception": false,
     "start_time": "2023-05-23T10:59:11.982713",
     "status": "completed"
    },
    "tags": []
   },
   "outputs": [
    {
     "data": {
      "text/plain": [
       "Index(['id', 'url', 'region', 'region_url', 'price', 'year', 'manufacturer',\n",
       "       'model', 'condition', 'cylinders', 'fuel', 'odometer', 'title_status',\n",
       "       'transmission', 'VIN', 'drive', 'size', 'type', 'paint_color',\n",
       "       'image_url', 'description', 'county', 'state', 'lat', 'long',\n",
       "       'posting_date'],\n",
       "      dtype='object')"
      ]
     },
     "execution_count": 5,
     "metadata": {},
     "output_type": "execute_result"
    }
   ],
   "source": [
    "df.columns"
   ]
  },
  {
   "cell_type": "markdown",
   "id": "0309e143",
   "metadata": {
    "papermill": {
     "duration": 0.031427,
     "end_time": "2023-05-23T10:59:12.088783",
     "exception": false,
     "start_time": "2023-05-23T10:59:12.057356",
     "status": "completed"
    },
    "tags": []
   },
   "source": [
    "**Checking total missing values**"
   ]
  },
  {
   "cell_type": "code",
   "execution_count": 6,
   "id": "fb33bfde",
   "metadata": {
    "execution": {
     "iopub.execute_input": "2023-05-23T10:59:12.156058Z",
     "iopub.status.busy": "2023-05-23T10:59:12.155496Z",
     "iopub.status.idle": "2023-05-23T10:59:14.680899Z",
     "shell.execute_reply": "2023-05-23T10:59:14.679542Z"
    },
    "papermill": {
     "duration": 2.561981,
     "end_time": "2023-05-23T10:59:14.683803",
     "exception": false,
     "start_time": "2023-05-23T10:59:12.121822",
     "status": "completed"
    },
    "tags": []
   },
   "outputs": [
    {
     "data": {
      "text/plain": [
       "id                   0\n",
       "url                  0\n",
       "region               0\n",
       "region_url           0\n",
       "price                0\n",
       "year              1205\n",
       "manufacturer     17646\n",
       "model             5277\n",
       "condition       174104\n",
       "cylinders       177678\n",
       "fuel              3013\n",
       "odometer          4400\n",
       "title_status      8242\n",
       "transmission      2556\n",
       "VIN             161042\n",
       "drive           130567\n",
       "size            306361\n",
       "type             92858\n",
       "paint_color     130203\n",
       "image_url           68\n",
       "description         70\n",
       "county          426880\n",
       "state                0\n",
       "lat               6549\n",
       "long              6549\n",
       "posting_date        68\n",
       "dtype: int64"
      ]
     },
     "execution_count": 6,
     "metadata": {},
     "output_type": "execute_result"
    }
   ],
   "source": [
    "df.isna().sum()"
   ]
  },
  {
   "cell_type": "code",
   "execution_count": 7,
   "id": "6321919b",
   "metadata": {
    "execution": {
     "iopub.execute_input": "2023-05-23T10:59:14.748851Z",
     "iopub.status.busy": "2023-05-23T10:59:14.748348Z",
     "iopub.status.idle": "2023-05-23T10:59:17.292277Z",
     "shell.execute_reply": "2023-05-23T10:59:17.290704Z"
    },
    "papermill": {
     "duration": 2.580453,
     "end_time": "2023-05-23T10:59:17.295473",
     "exception": false,
     "start_time": "2023-05-23T10:59:14.715020",
     "status": "completed"
    },
    "tags": []
   },
   "outputs": [
    {
     "name": "stdout",
     "output_type": "stream",
     "text": [
      "<class 'pandas.core.frame.DataFrame'>\n",
      "RangeIndex: 426880 entries, 0 to 426879\n",
      "Data columns (total 26 columns):\n",
      " #   Column        Non-Null Count   Dtype  \n",
      "---  ------        --------------   -----  \n",
      " 0   id            426880 non-null  int64  \n",
      " 1   url           426880 non-null  object \n",
      " 2   region        426880 non-null  object \n",
      " 3   region_url    426880 non-null  object \n",
      " 4   price         426880 non-null  int64  \n",
      " 5   year          425675 non-null  float64\n",
      " 6   manufacturer  409234 non-null  object \n",
      " 7   model         421603 non-null  object \n",
      " 8   condition     252776 non-null  object \n",
      " 9   cylinders     249202 non-null  object \n",
      " 10  fuel          423867 non-null  object \n",
      " 11  odometer      422480 non-null  float64\n",
      " 12  title_status  418638 non-null  object \n",
      " 13  transmission  424324 non-null  object \n",
      " 14  VIN           265838 non-null  object \n",
      " 15  drive         296313 non-null  object \n",
      " 16  size          120519 non-null  object \n",
      " 17  type          334022 non-null  object \n",
      " 18  paint_color   296677 non-null  object \n",
      " 19  image_url     426812 non-null  object \n",
      " 20  description   426810 non-null  object \n",
      " 21  county        0 non-null       float64\n",
      " 22  state         426880 non-null  object \n",
      " 23  lat           420331 non-null  float64\n",
      " 24  long          420331 non-null  float64\n",
      " 25  posting_date  426812 non-null  object \n",
      "dtypes: float64(5), int64(2), object(19)\n",
      "memory usage: 84.7+ MB\n"
     ]
    }
   ],
   "source": [
    "df.info()"
   ]
  },
  {
   "cell_type": "markdown",
   "id": "c2daee8d",
   "metadata": {
    "papermill": {
     "duration": 0.031666,
     "end_time": "2023-05-23T10:59:17.358480",
     "exception": false,
     "start_time": "2023-05-23T10:59:17.326814",
     "status": "completed"
    },
    "tags": []
   },
   "source": [
    "# **Data Cleaning**"
   ]
  },
  {
   "cell_type": "markdown",
   "id": "8ba9af48",
   "metadata": {
    "papermill": {
     "duration": 0.031539,
     "end_time": "2023-05-23T10:59:17.422599",
     "exception": false,
     "start_time": "2023-05-23T10:59:17.391060",
     "status": "completed"
    },
    "tags": []
   },
   "source": [
    "**Extracting important features (Feature Selection)**"
   ]
  },
  {
   "cell_type": "code",
   "execution_count": 8,
   "id": "af35382b",
   "metadata": {
    "execution": {
     "iopub.execute_input": "2023-05-23T10:59:17.489035Z",
     "iopub.status.busy": "2023-05-23T10:59:17.488532Z",
     "iopub.status.idle": "2023-05-23T10:59:17.717109Z",
     "shell.execute_reply": "2023-05-23T10:59:17.716130Z"
    },
    "papermill": {
     "duration": 0.266023,
     "end_time": "2023-05-23T10:59:17.719450",
     "exception": false,
     "start_time": "2023-05-23T10:59:17.453427",
     "status": "completed"
    },
    "tags": []
   },
   "outputs": [],
   "source": [
    "df.drop(['id', 'url', 'region_url', 'VIN', 'image_url', 'description', 'county', 'lat', 'long', 'posting_date', 'size', 'state'], axis=1, inplace=True)"
   ]
  },
  {
   "cell_type": "markdown",
   "id": "55d5cb54",
   "metadata": {
    "papermill": {
     "duration": 0.030714,
     "end_time": "2023-05-23T10:59:17.781334",
     "exception": false,
     "start_time": "2023-05-23T10:59:17.750620",
     "status": "completed"
    },
    "tags": []
   },
   "source": [
    "**Handling missing values**"
   ]
  },
  {
   "cell_type": "code",
   "execution_count": 9,
   "id": "021a5402",
   "metadata": {
    "execution": {
     "iopub.execute_input": "2023-05-23T10:59:17.845172Z",
     "iopub.status.busy": "2023-05-23T10:59:17.844651Z",
     "iopub.status.idle": "2023-05-23T10:59:19.258030Z",
     "shell.execute_reply": "2023-05-23T10:59:19.256824Z"
    },
    "papermill": {
     "duration": 1.448776,
     "end_time": "2023-05-23T10:59:19.260848",
     "exception": false,
     "start_time": "2023-05-23T10:59:17.812072",
     "status": "completed"
    },
    "tags": []
   },
   "outputs": [
    {
     "data": {
      "text/plain": [
       "region           0.000000\n",
       "price            0.000000\n",
       "year             0.282281\n",
       "manufacturer     4.133714\n",
       "model            1.236179\n",
       "condition       40.785232\n",
       "cylinders       41.622470\n",
       "fuel             0.705819\n",
       "odometer         1.030735\n",
       "title_status     1.930753\n",
       "transmission     0.598763\n",
       "drive           30.586347\n",
       "type            21.752717\n",
       "paint_color     30.501078\n",
       "dtype: float64"
      ]
     },
     "execution_count": 9,
     "metadata": {},
     "output_type": "execute_result"
    }
   ],
   "source": [
    "df.isna().sum()/df.shape[0]*100"
   ]
  },
  {
   "cell_type": "markdown",
   "id": "28e10f4c",
   "metadata": {
    "papermill": {
     "duration": 0.030728,
     "end_time": "2023-05-23T10:59:19.322886",
     "exception": false,
     "start_time": "2023-05-23T10:59:19.292158",
     "status": "completed"
    },
    "tags": []
   },
   "source": [
    "**We can see that \"year\", \"manufacturer\", \"model\", and \"odometer\" column has less than 5% of null values. So we can simply drop those rows which have null values in these two columns.**"
   ]
  },
  {
   "cell_type": "code",
   "execution_count": 10,
   "id": "3e7b20db",
   "metadata": {
    "execution": {
     "iopub.execute_input": "2023-05-23T10:59:19.387533Z",
     "iopub.status.busy": "2023-05-23T10:59:19.387041Z",
     "iopub.status.idle": "2023-05-23T10:59:19.759579Z",
     "shell.execute_reply": "2023-05-23T10:59:19.758212Z"
    },
    "papermill": {
     "duration": 0.408905,
     "end_time": "2023-05-23T10:59:19.762712",
     "exception": false,
     "start_time": "2023-05-23T10:59:19.353807",
     "status": "completed"
    },
    "tags": []
   },
   "outputs": [],
   "source": [
    "df = df.dropna(subset=['year', 'odometer', 'manufacturer', 'model'])"
   ]
  },
  {
   "cell_type": "markdown",
   "id": "6442b882",
   "metadata": {
    "papermill": {
     "duration": 0.030545,
     "end_time": "2023-05-23T10:59:19.824250",
     "exception": false,
     "start_time": "2023-05-23T10:59:19.793705",
     "status": "completed"
    },
    "tags": []
   },
   "source": [
    "**For all the missing values in other columns, we have just converted them in to a new category, \"unknown\"**"
   ]
  },
  {
   "cell_type": "code",
   "execution_count": 11,
   "id": "4d19ca4a",
   "metadata": {
    "execution": {
     "iopub.execute_input": "2023-05-23T10:59:19.888171Z",
     "iopub.status.busy": "2023-05-23T10:59:19.887683Z",
     "iopub.status.idle": "2023-05-23T10:59:21.370149Z",
     "shell.execute_reply": "2023-05-23T10:59:21.369005Z"
    },
    "papermill": {
     "duration": 1.518126,
     "end_time": "2023-05-23T10:59:21.373278",
     "exception": false,
     "start_time": "2023-05-23T10:59:19.855152",
     "status": "completed"
    },
    "tags": []
   },
   "outputs": [],
   "source": [
    "df.fillna('unknown', inplace=True)"
   ]
  },
  {
   "cell_type": "markdown",
   "id": "d50f838e",
   "metadata": {
    "papermill": {
     "duration": 0.030803,
     "end_time": "2023-05-23T10:59:21.435058",
     "exception": false,
     "start_time": "2023-05-23T10:59:21.404255",
     "status": "completed"
    },
    "tags": []
   },
   "source": [
    "**Handling duplicated values**"
   ]
  },
  {
   "cell_type": "code",
   "execution_count": 12,
   "id": "6b4e8dea",
   "metadata": {
    "execution": {
     "iopub.execute_input": "2023-05-23T10:59:21.500142Z",
     "iopub.status.busy": "2023-05-23T10:59:21.499526Z",
     "iopub.status.idle": "2023-05-23T10:59:22.041395Z",
     "shell.execute_reply": "2023-05-23T10:59:22.040039Z"
    },
    "papermill": {
     "duration": 0.57783,
     "end_time": "2023-05-23T10:59:22.044366",
     "exception": false,
     "start_time": "2023-05-23T10:59:21.466536",
     "status": "completed"
    },
    "tags": []
   },
   "outputs": [
    {
     "data": {
      "text/plain": [
       "53043"
      ]
     },
     "execution_count": 12,
     "metadata": {},
     "output_type": "execute_result"
    }
   ],
   "source": [
    "df.duplicated().sum()"
   ]
  },
  {
   "cell_type": "code",
   "execution_count": 13,
   "id": "03d1e085",
   "metadata": {
    "collapsed": false,
    "jupyter": {
     "outputs_hidden": false
    }
   },
   "outputs": [
    {
     "data": {
      "text/plain": [
       "(399883, 14)"
      ]
     },
     "execution_count": 13,
     "metadata": {},
     "output_type": "execute_result"
    }
   ],
   "source": [
    "df.shape"
   ]
  },
  {
   "cell_type": "code",
   "execution_count": 14,
   "id": "12c0b2e0",
   "metadata": {
    "execution": {
     "iopub.execute_input": "2023-05-23T10:59:22.110717Z",
     "iopub.status.busy": "2023-05-23T10:59:22.110264Z",
     "iopub.status.idle": "2023-05-23T10:59:22.793493Z",
     "shell.execute_reply": "2023-05-23T10:59:22.792033Z"
    },
    "papermill": {
     "duration": 0.720856,
     "end_time": "2023-05-23T10:59:22.796775",
     "exception": false,
     "start_time": "2023-05-23T10:59:22.075919",
     "status": "completed"
    },
    "tags": []
   },
   "outputs": [],
   "source": [
    "df = df.drop_duplicates()"
   ]
  },
  {
   "cell_type": "code",
   "execution_count": 15,
   "id": "75186047",
   "metadata": {
    "execution": {
     "iopub.execute_input": "2023-05-23T10:59:22.861867Z",
     "iopub.status.busy": "2023-05-23T10:59:22.861428Z",
     "iopub.status.idle": "2023-05-23T10:59:22.869040Z",
     "shell.execute_reply": "2023-05-23T10:59:22.868061Z"
    },
    "papermill": {
     "duration": 0.043138,
     "end_time": "2023-05-23T10:59:22.871247",
     "exception": false,
     "start_time": "2023-05-23T10:59:22.828109",
     "status": "completed"
    },
    "tags": []
   },
   "outputs": [
    {
     "data": {
      "text/plain": [
       "(346840, 14)"
      ]
     },
     "execution_count": 15,
     "metadata": {},
     "output_type": "execute_result"
    }
   ],
   "source": [
    "df.shape"
   ]
  },
  {
   "cell_type": "markdown",
   "id": "ad167de0",
   "metadata": {
    "papermill": {
     "duration": 0.030711,
     "end_time": "2023-05-23T10:59:22.933063",
     "exception": false,
     "start_time": "2023-05-23T10:59:22.902352",
     "status": "completed"
    },
    "tags": []
   },
   "source": [
    "**Categorical data cleaning**"
   ]
  },
  {
   "cell_type": "code",
   "execution_count": 16,
   "id": "428c909f",
   "metadata": {
    "execution": {
     "iopub.execute_input": "2023-05-23T10:59:22.997459Z",
     "iopub.status.busy": "2023-05-23T10:59:22.996969Z",
     "iopub.status.idle": "2023-05-23T10:59:23.062277Z",
     "shell.execute_reply": "2023-05-23T10:59:23.060971Z"
    },
    "papermill": {
     "duration": 0.101445,
     "end_time": "2023-05-23T10:59:23.065442",
     "exception": false,
     "start_time": "2023-05-23T10:59:22.963997",
     "status": "completed"
    },
    "tags": []
   },
   "outputs": [],
   "source": [
    "manufacturer_values = df['manufacturer'].value_counts()"
   ]
  },
  {
   "cell_type": "code",
   "execution_count": 17,
   "id": "8107f6cf",
   "metadata": {
    "execution": {
     "iopub.execute_input": "2023-05-23T10:59:23.132653Z",
     "iopub.status.busy": "2023-05-23T10:59:23.132189Z",
     "iopub.status.idle": "2023-05-23T10:59:23.139372Z",
     "shell.execute_reply": "2023-05-23T10:59:23.138147Z"
    },
    "papermill": {
     "duration": 0.044931,
     "end_time": "2023-05-23T10:59:23.142690",
     "exception": false,
     "start_time": "2023-05-23T10:59:23.097759",
     "status": "completed"
    },
    "tags": []
   },
   "outputs": [
    {
     "name": "stdout",
     "output_type": "stream",
     "text": [
      "manufacturer\n",
      "ford               60022\n",
      "chevrolet          46111\n",
      "toyota             29054\n",
      "honda              18088\n",
      "jeep               15913\n",
      "nissan             15796\n",
      "ram                14641\n",
      "gmc                14283\n",
      "bmw                12802\n",
      "dodge              11137\n",
      "mercedes-benz      10083\n",
      "hyundai             8438\n",
      "volkswagen          8283\n",
      "subaru              8193\n",
      "lexus               7138\n",
      "kia                 6969\n",
      "audi                6816\n",
      "cadillac            5911\n",
      "acura               5469\n",
      "chrysler            5103\n",
      "buick               4753\n",
      "mazda               4702\n",
      "infiniti            4319\n",
      "lincoln             3764\n",
      "volvo               2907\n",
      "mitsubishi          2874\n",
      "mini                2090\n",
      "pontiac             2022\n",
      "jaguar              1813\n",
      "rover               1572\n",
      "porsche             1179\n",
      "mercury             1005\n",
      "saturn               932\n",
      "alfa-romeo           859\n",
      "tesla                812\n",
      "fiat                 699\n",
      "harley-davidson      121\n",
      "ferrari               69\n",
      "datsun                61\n",
      "aston-martin          22\n",
      "land rover            15\n",
      "Name: count, dtype: int64\n"
     ]
    }
   ],
   "source": [
    "print(manufacturer_values)"
   ]
  },
  {
   "cell_type": "code",
   "execution_count": 18,
   "id": "e679e4cd",
   "metadata": {
    "execution": {
     "iopub.execute_input": "2023-05-23T10:59:23.209223Z",
     "iopub.status.busy": "2023-05-23T10:59:23.208713Z",
     "iopub.status.idle": "2023-05-23T10:59:41.302727Z",
     "shell.execute_reply": "2023-05-23T10:59:41.301250Z"
    },
    "papermill": {
     "duration": 18.131776,
     "end_time": "2023-05-23T10:59:41.305991",
     "exception": false,
     "start_time": "2023-05-23T10:59:23.174215",
     "status": "completed"
    },
    "tags": []
   },
   "outputs": [],
   "source": [
    "df['manufacturer'] = df['manufacturer'].apply(lambda x: x if str(x) in manufacturer_values[:20] else 'others')"
   ]
  },
  {
   "cell_type": "code",
   "execution_count": 19,
   "id": "b1f43faf",
   "metadata": {
    "execution": {
     "iopub.execute_input": "2023-05-23T10:59:41.373632Z",
     "iopub.status.busy": "2023-05-23T10:59:41.373151Z",
     "iopub.status.idle": "2023-05-23T11:00:00.237540Z",
     "shell.execute_reply": "2023-05-23T11:00:00.235674Z"
    },
    "papermill": {
     "duration": 18.903245,
     "end_time": "2023-05-23T11:00:00.241110",
     "exception": false,
     "start_time": "2023-05-23T10:59:41.337865",
     "status": "completed"
    },
    "tags": []
   },
   "outputs": [],
   "source": [
    "region_values = df['region'].value_counts()\n",
    "df['region'] = df['region'].apply(lambda x: x if str(x) in region_values[:50] else 'others')"
   ]
  },
  {
   "cell_type": "code",
   "execution_count": 20,
   "id": "fe866cb7",
   "metadata": {
    "execution": {
     "iopub.execute_input": "2023-05-23T11:00:00.308996Z",
     "iopub.status.busy": "2023-05-23T11:00:00.308510Z",
     "iopub.status.idle": "2023-05-23T11:00:19.424196Z",
     "shell.execute_reply": "2023-05-23T11:00:19.422498Z"
    },
    "papermill": {
     "duration": 19.155726,
     "end_time": "2023-05-23T11:00:19.428637",
     "exception": false,
     "start_time": "2023-05-23T11:00:00.272911",
     "status": "completed"
    },
    "tags": []
   },
   "outputs": [],
   "source": [
    "model_values = df['model'].value_counts()\n",
    "df['model'] = df['model'].apply(lambda x: x if str(x) in model_values[:50] else 'others')"
   ]
  },
  {
   "cell_type": "code",
   "execution_count": 21,
   "id": "76b72361",
   "metadata": {
    "execution": {
     "iopub.execute_input": "2023-05-23T11:00:19.495555Z",
     "iopub.status.busy": "2023-05-23T11:00:19.495074Z",
     "iopub.status.idle": "2023-05-23T11:00:20.146048Z",
     "shell.execute_reply": "2023-05-23T11:00:20.144805Z"
    },
    "papermill": {
     "duration": 0.687446,
     "end_time": "2023-05-23T11:00:20.149108",
     "exception": false,
     "start_time": "2023-05-23T11:00:19.461662",
     "status": "completed"
    },
    "tags": []
   },
   "outputs": [
    {
     "name": "stdout",
     "output_type": "stream",
     "text": [
      "region 51\n",
      "price 15274\n",
      "year 107\n",
      "manufacturer 21\n",
      "model 51\n",
      "condition 7\n",
      "cylinders 9\n",
      "fuel 6\n",
      "odometer 101980\n",
      "title_status 7\n",
      "transmission 4\n",
      "drive 4\n",
      "type 14\n",
      "paint_color 13\n"
     ]
    }
   ],
   "source": [
    "for i in df.columns:\n",
    "  print(i, len(df[i].value_counts().index))"
   ]
  },
  {
   "cell_type": "markdown",
   "id": "3e22726a",
   "metadata": {
    "papermill": {
     "duration": 0.031833,
     "end_time": "2023-05-23T11:00:20.214280",
     "exception": false,
     "start_time": "2023-05-23T11:00:20.182447",
     "status": "completed"
    },
    "tags": []
   },
   "source": [
    "**Numerical Data Cleaning**"
   ]
  },
  {
   "cell_type": "code",
   "execution_count": 22,
   "id": "ad163665",
   "metadata": {
    "execution": {
     "iopub.execute_input": "2023-05-23T11:00:20.282743Z",
     "iopub.status.busy": "2023-05-23T11:00:20.282241Z",
     "iopub.status.idle": "2023-05-23T11:00:20.359640Z",
     "shell.execute_reply": "2023-05-23T11:00:20.358128Z"
    },
    "papermill": {
     "duration": 0.114302,
     "end_time": "2023-05-23T11:00:20.362580",
     "exception": false,
     "start_time": "2023-05-23T11:00:20.248278",
     "status": "completed"
    },
    "tags": []
   },
   "outputs": [
    {
     "data": {
      "text/html": [
       "<div>\n",
       "<style scoped>\n",
       "    .dataframe tbody tr th:only-of-type {\n",
       "        vertical-align: middle;\n",
       "    }\n",
       "\n",
       "    .dataframe tbody tr th {\n",
       "        vertical-align: top;\n",
       "    }\n",
       "\n",
       "    .dataframe thead th {\n",
       "        text-align: right;\n",
       "    }\n",
       "</style>\n",
       "<table border=\"1\" class=\"dataframe\">\n",
       "  <thead>\n",
       "    <tr style=\"text-align: right;\">\n",
       "      <th></th>\n",
       "      <th>price</th>\n",
       "      <th>year</th>\n",
       "      <th>odometer</th>\n",
       "    </tr>\n",
       "  </thead>\n",
       "  <tbody>\n",
       "    <tr>\n",
       "      <th>count</th>\n",
       "      <td>3.468400e+05</td>\n",
       "      <td>346840.000000</td>\n",
       "      <td>3.468400e+05</td>\n",
       "    </tr>\n",
       "    <tr>\n",
       "      <th>mean</th>\n",
       "      <td>6.997499e+04</td>\n",
       "      <td>2011.526814</td>\n",
       "      <td>9.501220e+04</td>\n",
       "    </tr>\n",
       "    <tr>\n",
       "      <th>std</th>\n",
       "      <td>1.213391e+07</td>\n",
       "      <td>8.876408</td>\n",
       "      <td>1.848760e+05</td>\n",
       "    </tr>\n",
       "    <tr>\n",
       "      <th>min</th>\n",
       "      <td>0.000000e+00</td>\n",
       "      <td>1900.000000</td>\n",
       "      <td>0.000000e+00</td>\n",
       "    </tr>\n",
       "    <tr>\n",
       "      <th>25%</th>\n",
       "      <td>6.000000e+03</td>\n",
       "      <td>2008.000000</td>\n",
       "      <td>3.600000e+04</td>\n",
       "    </tr>\n",
       "    <tr>\n",
       "      <th>50%</th>\n",
       "      <td>1.458800e+04</td>\n",
       "      <td>2014.000000</td>\n",
       "      <td>8.358900e+04</td>\n",
       "    </tr>\n",
       "    <tr>\n",
       "      <th>75%</th>\n",
       "      <td>2.699000e+04</td>\n",
       "      <td>2017.000000</td>\n",
       "      <td>1.330000e+05</td>\n",
       "    </tr>\n",
       "    <tr>\n",
       "      <th>max</th>\n",
       "      <td>3.736929e+09</td>\n",
       "      <td>2022.000000</td>\n",
       "      <td>1.000000e+07</td>\n",
       "    </tr>\n",
       "  </tbody>\n",
       "</table>\n",
       "</div>"
      ],
      "text/plain": [
       "              price           year      odometer\n",
       "count  3.468400e+05  346840.000000  3.468400e+05\n",
       "mean   6.997499e+04    2011.526814  9.501220e+04\n",
       "std    1.213391e+07       8.876408  1.848760e+05\n",
       "min    0.000000e+00    1900.000000  0.000000e+00\n",
       "25%    6.000000e+03    2008.000000  3.600000e+04\n",
       "50%    1.458800e+04    2014.000000  8.358900e+04\n",
       "75%    2.699000e+04    2017.000000  1.330000e+05\n",
       "max    3.736929e+09    2022.000000  1.000000e+07"
      ]
     },
     "execution_count": 22,
     "metadata": {},
     "output_type": "execute_result"
    }
   ],
   "source": [
    "df.describe()"
   ]
  },
  {
   "cell_type": "markdown",
   "id": "5376fad9",
   "metadata": {
    "papermill": {
     "duration": 0.032617,
     "end_time": "2023-05-23T11:00:20.428048",
     "exception": false,
     "start_time": "2023-05-23T11:00:20.395431",
     "status": "completed"
    },
    "tags": []
   },
   "source": [
    "**Our dataset have lots of outliers. Outliers reduces the accuracy of a model. We have to detect outliers and remove them.**"
   ]
  },
  {
   "cell_type": "code",
   "execution_count": 23,
   "id": "68f38ce0",
   "metadata": {
    "execution": {
     "iopub.execute_input": "2023-05-23T11:00:20.494931Z",
     "iopub.status.busy": "2023-05-23T11:00:20.494215Z",
     "iopub.status.idle": "2023-05-23T11:00:20.515777Z",
     "shell.execute_reply": "2023-05-23T11:00:20.514457Z"
    },
    "papermill": {
     "duration": 0.058788,
     "end_time": "2023-05-23T11:00:20.518986",
     "exception": false,
     "start_time": "2023-05-23T11:00:20.460198",
     "status": "completed"
    },
    "tags": []
   },
   "outputs": [],
   "source": [
    "price_percentile25 = df['price'].quantile(0.25)\n",
    "price_percentile75 = df['price'].quantile(0.75)\n",
    "price_iqr = price_percentile75 - price_percentile25"
   ]
  },
  {
   "cell_type": "code",
   "execution_count": 24,
   "id": "8a801d28",
   "metadata": {
    "execution": {
     "iopub.execute_input": "2023-05-23T11:00:20.589055Z",
     "iopub.status.busy": "2023-05-23T11:00:20.587755Z",
     "iopub.status.idle": "2023-05-23T11:00:20.602894Z",
     "shell.execute_reply": "2023-05-23T11:00:20.601504Z"
    },
    "papermill": {
     "duration": 0.052854,
     "end_time": "2023-05-23T11:00:20.606448",
     "exception": false,
     "start_time": "2023-05-23T11:00:20.553594",
     "status": "completed"
    },
    "tags": []
   },
   "outputs": [],
   "source": [
    "price_upper_limit = price_percentile75 + 1.5 * price_iqr\n",
    "price_lower_limit = df['price'].quantile(0.15)"
   ]
  },
  {
   "cell_type": "code",
   "execution_count": 25,
   "id": "459cfc5e",
   "metadata": {
    "execution": {
     "iopub.execute_input": "2023-05-23T11:00:20.677647Z",
     "iopub.status.busy": "2023-05-23T11:00:20.676491Z",
     "iopub.status.idle": "2023-05-23T11:00:20.808089Z",
     "shell.execute_reply": "2023-05-23T11:00:20.806194Z"
    },
    "papermill": {
     "duration": 0.170925,
     "end_time": "2023-05-23T11:00:20.811318",
     "exception": false,
     "start_time": "2023-05-23T11:00:20.640393",
     "status": "completed"
    },
    "tags": []
   },
   "outputs": [],
   "source": [
    "new_df = df[(df['price'] < price_upper_limit) & (df['price'] > price_lower_limit)]"
   ]
  },
  {
   "cell_type": "code",
   "execution_count": 26,
   "id": "2ae87bc7",
   "metadata": {
    "collapsed": false,
    "jupyter": {
     "outputs_hidden": false
    }
   },
   "outputs": [
    {
     "name": "stdout",
     "output_type": "stream",
     "text": [
      "58475.0\n"
     ]
    }
   ],
   "source": [
    "print(price_upper_limit)"
   ]
  },
  {
   "cell_type": "code",
   "execution_count": 27,
   "id": "aa32ca59",
   "metadata": {
    "execution": {
     "iopub.execute_input": "2023-05-23T11:00:20.880430Z",
     "iopub.status.busy": "2023-05-23T11:00:20.879782Z",
     "iopub.status.idle": "2023-05-23T11:00:20.915528Z",
     "shell.execute_reply": "2023-05-23T11:00:20.913535Z"
    },
    "papermill": {
     "duration": 0.073774,
     "end_time": "2023-05-23T11:00:20.919047",
     "exception": false,
     "start_time": "2023-05-23T11:00:20.845273",
     "status": "completed"
    },
    "tags": []
   },
   "outputs": [],
   "source": [
    "odometer_percentile75 = df['odometer'].quantile(0.75)\n",
    "odometer_percentile25 = df['odometer'].quantile(0.25)\n",
    "odometer_iqr = odometer_percentile75 - odometer_percentile25\n",
    "odometer_upper_limit = odometer_percentile75 + 1.5 * odometer_iqr\n",
    "odometer_lower_limit = df['odometer'].quantile(0.05)"
   ]
  },
  {
   "cell_type": "code",
   "execution_count": 28,
   "id": "eb930e7f",
   "metadata": {
    "execution": {
     "iopub.execute_input": "2023-05-23T11:00:20.989155Z",
     "iopub.status.busy": "2023-05-23T11:00:20.988549Z",
     "iopub.status.idle": "2023-05-23T11:00:21.053917Z",
     "shell.execute_reply": "2023-05-23T11:00:21.052421Z"
    },
    "papermill": {
     "duration": 0.105244,
     "end_time": "2023-05-23T11:00:21.057407",
     "exception": false,
     "start_time": "2023-05-23T11:00:20.952163",
     "status": "completed"
    },
    "tags": []
   },
   "outputs": [],
   "source": [
    "new_df = new_df[(new_df['odometer'] < odometer_upper_limit) & (new_df['odometer'] > odometer_lower_limit)]"
   ]
  },
  {
   "cell_type": "code",
   "execution_count": 29,
   "id": "009b5326",
   "metadata": {
    "execution": {
     "iopub.execute_input": "2023-05-23T11:00:21.126081Z",
     "iopub.status.busy": "2023-05-23T11:00:21.124816Z",
     "iopub.status.idle": "2023-05-23T11:00:21.133824Z",
     "shell.execute_reply": "2023-05-23T11:00:21.132521Z"
    },
    "papermill": {
     "duration": 0.046698,
     "end_time": "2023-05-23T11:00:21.136573",
     "exception": false,
     "start_time": "2023-05-23T11:00:21.089875",
     "status": "completed"
    },
    "tags": []
   },
   "outputs": [
    {
     "data": {
      "text/plain": [
       "(273590, 14)"
      ]
     },
     "execution_count": 29,
     "metadata": {},
     "output_type": "execute_result"
    }
   ],
   "source": [
    "new_df.shape"
   ]
  },
  {
   "cell_type": "code",
   "execution_count": 30,
   "id": "63c56a23",
   "metadata": {
    "collapsed": false,
    "jupyter": {
     "outputs_hidden": false
    }
   },
   "outputs": [],
   "source": [
    "new_df = new_df[new_df['price'] > 0]"
   ]
  },
  {
   "cell_type": "code",
   "execution_count": 31,
   "id": "2aaf2c2c",
   "metadata": {
    "collapsed": false,
    "jupyter": {
     "outputs_hidden": false
    }
   },
   "outputs": [
    {
     "data": {
      "text/plain": [
       "(273590, 14)"
      ]
     },
     "execution_count": 31,
     "metadata": {},
     "output_type": "execute_result"
    }
   ],
   "source": [
    "new_df.shape"
   ]
  },
  {
   "cell_type": "markdown",
   "id": "33fe4f3d",
   "metadata": {
    "papermill": {
     "duration": 0.032672,
     "end_time": "2023-05-23T11:00:21.201451",
     "exception": false,
     "start_time": "2023-05-23T11:00:21.168779",
     "status": "completed"
    },
    "tags": []
   },
   "source": [
    "# **Feature Engineering**"
   ]
  },
  {
   "cell_type": "code",
   "execution_count": 32,
   "id": "d73b049f",
   "metadata": {
    "execution": {
     "iopub.execute_input": "2023-05-23T11:00:21.270857Z",
     "iopub.status.busy": "2023-05-23T11:00:21.269222Z",
     "iopub.status.idle": "2023-05-23T11:00:21.301034Z",
     "shell.execute_reply": "2023-05-23T11:00:21.299818Z"
    },
    "papermill": {
     "duration": 0.069994,
     "end_time": "2023-05-23T11:00:21.304023",
     "exception": false,
     "start_time": "2023-05-23T11:00:21.234029",
     "status": "completed"
    },
    "tags": []
   },
   "outputs": [
    {
     "data": {
      "text/html": [
       "<div>\n",
       "<style scoped>\n",
       "    .dataframe tbody tr th:only-of-type {\n",
       "        vertical-align: middle;\n",
       "    }\n",
       "\n",
       "    .dataframe tbody tr th {\n",
       "        vertical-align: top;\n",
       "    }\n",
       "\n",
       "    .dataframe thead th {\n",
       "        text-align: right;\n",
       "    }\n",
       "</style>\n",
       "<table border=\"1\" class=\"dataframe\">\n",
       "  <thead>\n",
       "    <tr style=\"text-align: right;\">\n",
       "      <th></th>\n",
       "      <th>region</th>\n",
       "      <th>price</th>\n",
       "      <th>year</th>\n",
       "      <th>manufacturer</th>\n",
       "      <th>model</th>\n",
       "      <th>condition</th>\n",
       "      <th>cylinders</th>\n",
       "      <th>fuel</th>\n",
       "      <th>odometer</th>\n",
       "      <th>title_status</th>\n",
       "      <th>transmission</th>\n",
       "      <th>drive</th>\n",
       "      <th>type</th>\n",
       "      <th>paint_color</th>\n",
       "    </tr>\n",
       "  </thead>\n",
       "  <tbody>\n",
       "    <tr>\n",
       "      <th>340776</th>\n",
       "      <td>others</td>\n",
       "      <td>31990</td>\n",
       "      <td>2016.0</td>\n",
       "      <td>jeep</td>\n",
       "      <td>others</td>\n",
       "      <td>good</td>\n",
       "      <td>unknown</td>\n",
       "      <td>other</td>\n",
       "      <td>43644.0</td>\n",
       "      <td>clean</td>\n",
       "      <td>other</td>\n",
       "      <td>4wd</td>\n",
       "      <td>SUV</td>\n",
       "      <td>black</td>\n",
       "    </tr>\n",
       "    <tr>\n",
       "      <th>158524</th>\n",
       "      <td>des moines</td>\n",
       "      <td>6495</td>\n",
       "      <td>2009.0</td>\n",
       "      <td>ford</td>\n",
       "      <td>escape</td>\n",
       "      <td>excellent</td>\n",
       "      <td>6 cylinders</td>\n",
       "      <td>gas</td>\n",
       "      <td>186831.0</td>\n",
       "      <td>clean</td>\n",
       "      <td>automatic</td>\n",
       "      <td>4wd</td>\n",
       "      <td>SUV</td>\n",
       "      <td>unknown</td>\n",
       "    </tr>\n",
       "    <tr>\n",
       "      <th>245754</th>\n",
       "      <td>others</td>\n",
       "      <td>12850</td>\n",
       "      <td>2017.0</td>\n",
       "      <td>toyota</td>\n",
       "      <td>others</td>\n",
       "      <td>excellent</td>\n",
       "      <td>4 cylinders</td>\n",
       "      <td>gas</td>\n",
       "      <td>94013.0</td>\n",
       "      <td>clean</td>\n",
       "      <td>automatic</td>\n",
       "      <td>fwd</td>\n",
       "      <td>sedan</td>\n",
       "      <td>grey</td>\n",
       "    </tr>\n",
       "    <tr>\n",
       "      <th>48442</th>\n",
       "      <td>reno / tahoe</td>\n",
       "      <td>10999</td>\n",
       "      <td>2010.0</td>\n",
       "      <td>cadillac</td>\n",
       "      <td>others</td>\n",
       "      <td>excellent</td>\n",
       "      <td>6 cylinders</td>\n",
       "      <td>gas</td>\n",
       "      <td>124230.0</td>\n",
       "      <td>clean</td>\n",
       "      <td>automatic</td>\n",
       "      <td>4wd</td>\n",
       "      <td>SUV</td>\n",
       "      <td>black</td>\n",
       "    </tr>\n",
       "    <tr>\n",
       "      <th>126271</th>\n",
       "      <td>others</td>\n",
       "      <td>36990</td>\n",
       "      <td>2016.0</td>\n",
       "      <td>gmc</td>\n",
       "      <td>others</td>\n",
       "      <td>good</td>\n",
       "      <td>8 cylinders</td>\n",
       "      <td>gas</td>\n",
       "      <td>23190.0</td>\n",
       "      <td>clean</td>\n",
       "      <td>other</td>\n",
       "      <td>4wd</td>\n",
       "      <td>pickup</td>\n",
       "      <td>black</td>\n",
       "    </tr>\n",
       "  </tbody>\n",
       "</table>\n",
       "</div>"
      ],
      "text/plain": [
       "              region  price    year manufacturer   model  condition  \\\n",
       "340776        others  31990  2016.0         jeep  others       good   \n",
       "158524    des moines   6495  2009.0         ford  escape  excellent   \n",
       "245754        others  12850  2017.0       toyota  others  excellent   \n",
       "48442   reno / tahoe  10999  2010.0     cadillac  others  excellent   \n",
       "126271        others  36990  2016.0          gmc  others       good   \n",
       "\n",
       "          cylinders   fuel  odometer title_status transmission drive    type  \\\n",
       "340776      unknown  other   43644.0        clean        other   4wd     SUV   \n",
       "158524  6 cylinders    gas  186831.0        clean    automatic   4wd     SUV   \n",
       "245754  4 cylinders    gas   94013.0        clean    automatic   fwd   sedan   \n",
       "48442   6 cylinders    gas  124230.0        clean    automatic   4wd     SUV   \n",
       "126271  8 cylinders    gas   23190.0        clean        other   4wd  pickup   \n",
       "\n",
       "       paint_color  \n",
       "340776       black  \n",
       "158524     unknown  \n",
       "245754        grey  \n",
       "48442        black  \n",
       "126271       black  "
      ]
     },
     "execution_count": 32,
     "metadata": {},
     "output_type": "execute_result"
    }
   ],
   "source": [
    "new_df.sample(5)"
   ]
  },
  {
   "cell_type": "code",
   "execution_count": 33,
   "id": "ae1d1543",
   "metadata": {
    "execution": {
     "iopub.execute_input": "2023-05-23T11:00:21.374017Z",
     "iopub.status.busy": "2023-05-23T11:00:21.372590Z",
     "iopub.status.idle": "2023-05-23T11:00:21.382333Z",
     "shell.execute_reply": "2023-05-23T11:00:21.381094Z"
    },
    "papermill": {
     "duration": 0.048292,
     "end_time": "2023-05-23T11:00:21.385481",
     "exception": false,
     "start_time": "2023-05-23T11:00:21.337189",
     "status": "completed"
    },
    "tags": []
   },
   "outputs": [],
   "source": [
    "new_df['odometer'] = new_df['odometer'].astype(int)"
   ]
  },
  {
   "cell_type": "code",
   "execution_count": 34,
   "id": "3d7dddfb",
   "metadata": {
    "execution": {
     "iopub.execute_input": "2023-05-23T11:00:21.455929Z",
     "iopub.status.busy": "2023-05-23T11:00:21.455423Z",
     "iopub.status.idle": "2023-05-23T11:00:21.463785Z",
     "shell.execute_reply": "2023-05-23T11:00:21.462549Z"
    },
    "papermill": {
     "duration": 0.047428,
     "end_time": "2023-05-23T11:00:21.466543",
     "exception": false,
     "start_time": "2023-05-23T11:00:21.419115",
     "status": "completed"
    },
    "tags": []
   },
   "outputs": [],
   "source": [
    "new_df['year'] = new_df['year'].astype(int)"
   ]
  },
  {
   "cell_type": "markdown",
   "id": "f6d3b160",
   "metadata": {
    "papermill": {
     "duration": 0.033381,
     "end_time": "2023-05-23T11:00:29.697320",
     "exception": false,
     "start_time": "2023-05-23T11:00:29.663939",
     "status": "completed"
    },
    "tags": []
   },
   "source": [
    "**We can see the car data before 2000 is quiet irrelevant with our current times data. So we are extracting all the car data available after 1996**"
   ]
  },
  {
   "cell_type": "code",
   "execution_count": 36,
   "id": "2528a9d7",
   "metadata": {
    "execution": {
     "iopub.execute_input": "2023-05-23T11:00:29.769586Z",
     "iopub.status.busy": "2023-05-23T11:00:29.768734Z",
     "iopub.status.idle": "2023-05-23T11:00:29.836147Z",
     "shell.execute_reply": "2023-05-23T11:00:29.834901Z"
    },
    "papermill": {
     "duration": 0.106902,
     "end_time": "2023-05-23T11:00:29.839260",
     "exception": false,
     "start_time": "2023-05-23T11:00:29.732358",
     "status": "completed"
    },
    "tags": []
   },
   "outputs": [
    {
     "data": {
      "text/plain": [
       "(264790, 14)"
      ]
     },
     "execution_count": 36,
     "metadata": {},
     "output_type": "execute_result"
    }
   ],
   "source": [
    "new_df = new_df[new_df['year'] > 2000]\n",
    "new_df.shape"
   ]
  },
  {
   "cell_type": "code",
   "execution_count": 37,
   "id": "13fbf74a",
   "metadata": {
    "execution": {
     "iopub.execute_input": "2023-05-23T11:00:29.910916Z",
     "iopub.status.busy": "2023-05-23T11:00:29.910127Z",
     "iopub.status.idle": "2023-05-23T11:00:30.014411Z",
     "shell.execute_reply": "2023-05-23T11:00:30.013160Z"
    },
    "papermill": {
     "duration": 0.143408,
     "end_time": "2023-05-23T11:00:30.017651",
     "exception": false,
     "start_time": "2023-05-23T11:00:29.874243",
     "status": "completed"
    },
    "tags": []
   },
   "outputs": [
    {
     "data": {
      "text/html": [
       "<div>\n",
       "<style scoped>\n",
       "    .dataframe tbody tr th:only-of-type {\n",
       "        vertical-align: middle;\n",
       "    }\n",
       "\n",
       "    .dataframe tbody tr th {\n",
       "        vertical-align: top;\n",
       "    }\n",
       "\n",
       "    .dataframe thead th {\n",
       "        text-align: right;\n",
       "    }\n",
       "</style>\n",
       "<table border=\"1\" class=\"dataframe\">\n",
       "  <thead>\n",
       "    <tr style=\"text-align: right;\">\n",
       "      <th></th>\n",
       "      <th>price</th>\n",
       "      <th>odometer</th>\n",
       "      <th>car_age</th>\n",
       "    </tr>\n",
       "  </thead>\n",
       "  <tbody>\n",
       "    <tr>\n",
       "      <th>count</th>\n",
       "      <td>264790.000000</td>\n",
       "      <td>264790.000000</td>\n",
       "      <td>264790.000000</td>\n",
       "    </tr>\n",
       "    <tr>\n",
       "      <th>mean</th>\n",
       "      <td>19556.905389</td>\n",
       "      <td>90423.555625</td>\n",
       "      <td>9.066917</td>\n",
       "    </tr>\n",
       "    <tr>\n",
       "      <th>std</th>\n",
       "      <td>12047.429756</td>\n",
       "      <td>57070.168218</td>\n",
       "      <td>4.909724</td>\n",
       "    </tr>\n",
       "    <tr>\n",
       "      <th>min</th>\n",
       "      <td>3525.000000</td>\n",
       "      <td>6958.000000</td>\n",
       "      <td>0.000000</td>\n",
       "    </tr>\n",
       "    <tr>\n",
       "      <th>25%</th>\n",
       "      <td>8999.000000</td>\n",
       "      <td>40000.000000</td>\n",
       "      <td>5.000000</td>\n",
       "    </tr>\n",
       "    <tr>\n",
       "      <th>50%</th>\n",
       "      <td>16995.000000</td>\n",
       "      <td>85000.000000</td>\n",
       "      <td>8.000000</td>\n",
       "    </tr>\n",
       "    <tr>\n",
       "      <th>75%</th>\n",
       "      <td>27990.000000</td>\n",
       "      <td>130333.000000</td>\n",
       "      <td>12.000000</td>\n",
       "    </tr>\n",
       "    <tr>\n",
       "      <th>max</th>\n",
       "      <td>58448.000000</td>\n",
       "      <td>278495.000000</td>\n",
       "      <td>25.000000</td>\n",
       "    </tr>\n",
       "  </tbody>\n",
       "</table>\n",
       "</div>"
      ],
      "text/plain": [
       "               price       odometer        car_age\n",
       "count  264790.000000  264790.000000  264790.000000\n",
       "mean    19556.905389   90423.555625       9.066917\n",
       "std     12047.429756   57070.168218       4.909724\n",
       "min      3525.000000    6958.000000       0.000000\n",
       "25%      8999.000000   40000.000000       5.000000\n",
       "50%     16995.000000   85000.000000       8.000000\n",
       "75%     27990.000000  130333.000000      12.000000\n",
       "max     58448.000000  278495.000000      25.000000"
      ]
     },
     "execution_count": 37,
     "metadata": {},
     "output_type": "execute_result"
    }
   ],
   "source": [
    "new_df['car_age'] = 2023 - new_df['year']\n",
    "new_df.drop(['year'], axis = 1, inplace = True)\n",
    "new_df.describe()"
   ]
  },
  {
   "cell_type": "code",
   "execution_count": 44,
   "id": "60eee9b3",
   "metadata": {
    "execution": {
     "iopub.execute_input": "2023-05-23T11:00:50.028142Z",
     "iopub.status.busy": "2023-05-23T11:00:50.026903Z",
     "iopub.status.idle": "2023-05-23T11:00:50.051349Z",
     "shell.execute_reply": "2023-05-23T11:00:50.049965Z"
    },
    "papermill": {
     "duration": 0.069175,
     "end_time": "2023-05-23T11:00:50.054702",
     "exception": false,
     "start_time": "2023-05-23T11:00:49.985527",
     "status": "completed"
    },
    "tags": []
   },
   "outputs": [],
   "source": [
    "final_df = new_df.copy()"
   ]
  },
  {
   "cell_type": "markdown",
   "id": "4e84b453",
   "metadata": {
    "papermill": {
     "duration": 0.039446,
     "end_time": "2023-05-23T11:00:50.133775",
     "exception": false,
     "start_time": "2023-05-23T11:00:50.094329",
     "status": "completed"
    },
    "tags": []
   },
   "source": [
    "**Creating encoder and implimenting them into pipeline**"
   ]
  },
  {
   "cell_type": "code",
   "execution_count": 45,
   "id": "10b8d29a",
   "metadata": {
    "execution": {
     "iopub.execute_input": "2023-05-23T11:00:50.214979Z",
     "iopub.status.busy": "2023-05-23T11:00:50.214499Z",
     "iopub.status.idle": "2023-05-23T11:00:50.219873Z",
     "shell.execute_reply": "2023-05-23T11:00:50.218613Z"
    },
    "papermill": {
     "duration": 0.048029,
     "end_time": "2023-05-23T11:00:50.222194",
     "exception": false,
     "start_time": "2023-05-23T11:00:50.174165",
     "status": "completed"
    },
    "tags": []
   },
   "outputs": [],
   "source": [
    "from sklearn.pipeline import Pipeline"
   ]
  },
  {
   "cell_type": "code",
   "execution_count": 46,
   "id": "3d170388",
   "metadata": {
    "execution": {
     "iopub.execute_input": "2023-05-23T11:00:50.301753Z",
     "iopub.status.busy": "2023-05-23T11:00:50.301293Z",
     "iopub.status.idle": "2023-05-23T11:00:50.307066Z",
     "shell.execute_reply": "2023-05-23T11:00:50.306069Z"
    },
    "papermill": {
     "duration": 0.049826,
     "end_time": "2023-05-23T11:00:50.310030",
     "exception": false,
     "start_time": "2023-05-23T11:00:50.260204",
     "status": "completed"
    },
    "tags": []
   },
   "outputs": [],
   "source": [
    "pipe_categorical = Pipeline(\n",
    "    steps = [('ordinal_encoder', OrdinalEncoder(categories = [[ 'salvage', 'fair', 'unknown', 'good', 'excellent', 'like new', 'new']])),\n",
    "             ('one_hot_encoder', OneHotEncoder(sparse = False, drop = 'first'))]\n",
    ")"
   ]
  },
  {
   "cell_type": "code",
   "execution_count": 47,
   "id": "6923b3b0",
   "metadata": {
    "execution": {
     "iopub.execute_input": "2023-05-23T11:00:50.394390Z",
     "iopub.status.busy": "2023-05-23T11:00:50.393492Z",
     "iopub.status.idle": "2023-05-23T11:00:50.398863Z",
     "shell.execute_reply": "2023-05-23T11:00:50.397918Z"
    },
    "papermill": {
     "duration": 0.050989,
     "end_time": "2023-05-23T11:00:50.401624",
     "exception": false,
     "start_time": "2023-05-23T11:00:50.350635",
     "status": "completed"
    },
    "tags": []
   },
   "outputs": [],
   "source": [
    "pipe_numerical = Pipeline(\n",
    "    steps = [('standard_scaler', StandardScaler())]\n",
    ")"
   ]
  },
  {
   "cell_type": "code",
   "execution_count": 48,
   "id": "dfdb9ead",
   "metadata": {
    "execution": {
     "iopub.execute_input": "2023-05-23T11:00:50.481265Z",
     "iopub.status.busy": "2023-05-23T11:00:50.480387Z",
     "iopub.status.idle": "2023-05-23T11:00:50.486703Z",
     "shell.execute_reply": "2023-05-23T11:00:50.485715Z"
    },
    "papermill": {
     "duration": 0.049569,
     "end_time": "2023-05-23T11:00:50.490001",
     "exception": false,
     "start_time": "2023-05-23T11:00:50.440432",
     "status": "completed"
    },
    "tags": []
   },
   "outputs": [],
   "source": [
    "column_transformer = ColumnTransformer(transformers = [\n",
    "    ('condition_pipe_trans', pipe_categorical['ordinal_encoder'], ['condition']),\n",
    "    ('categorical_pipe_trans', pipe_categorical['one_hot_encoder'], ['model', 'region', 'manufacturer', 'fuel', 'cylinders','title_status', 'transmission', 'drive', 'type', 'paint_color']),\n",
    "    ('numerical_pipe_trans', pipe_numerical, ['odometer'])\n",
    "])"
   ]
  },
  {
   "cell_type": "markdown",
   "id": "feef2976",
   "metadata": {
    "papermill": {
     "duration": 0.039116,
     "end_time": "2023-05-23T11:00:50.567860",
     "exception": false,
     "start_time": "2023-05-23T11:00:50.528744",
     "status": "completed"
    },
    "tags": []
   },
   "source": [
    "**Train-test-split**"
   ]
  },
  {
   "cell_type": "code",
   "execution_count": 49,
   "id": "4afcbc5c",
   "metadata": {
    "execution": {
     "iopub.execute_input": "2023-05-23T11:00:50.647470Z",
     "iopub.status.busy": "2023-05-23T11:00:50.646613Z",
     "iopub.status.idle": "2023-05-23T11:00:50.785789Z",
     "shell.execute_reply": "2023-05-23T11:00:50.784460Z"
    },
    "papermill": {
     "duration": 0.182766,
     "end_time": "2023-05-23T11:00:50.788932",
     "exception": false,
     "start_time": "2023-05-23T11:00:50.606166",
     "status": "completed"
    },
    "tags": []
   },
   "outputs": [],
   "source": [
    "from sklearn.model_selection import train_test_split"
   ]
  },
  {
   "cell_type": "code",
   "execution_count": 50,
   "id": "4f1b2533",
   "metadata": {
    "execution": {
     "iopub.execute_input": "2023-05-23T11:00:50.870395Z",
     "iopub.status.busy": "2023-05-23T11:00:50.869837Z",
     "iopub.status.idle": "2023-05-23T11:00:51.254713Z",
     "shell.execute_reply": "2023-05-23T11:00:51.253275Z"
    },
    "papermill": {
     "duration": 0.429448,
     "end_time": "2023-05-23T11:00:51.257840",
     "exception": false,
     "start_time": "2023-05-23T11:00:50.828392",
     "status": "completed"
    },
    "tags": []
   },
   "outputs": [],
   "source": [
    "X_train, X_test, y_train, y_test = train_test_split(final_df.drop(['price'], axis = 1), final_df['price'], random_state = 42, test_size = .2)"
   ]
  },
  {
   "cell_type": "code",
   "execution_count": 51,
   "id": "0467faaa",
   "metadata": {
    "execution": {
     "iopub.execute_input": "2023-05-23T11:00:51.340998Z",
     "iopub.status.busy": "2023-05-23T11:00:51.340471Z",
     "iopub.status.idle": "2023-05-23T11:00:52.984021Z",
     "shell.execute_reply": "2023-05-23T11:00:52.982640Z"
    },
    "papermill": {
     "duration": 1.691457,
     "end_time": "2023-05-23T11:00:52.987348",
     "exception": false,
     "start_time": "2023-05-23T11:00:51.295891",
     "status": "completed"
    },
    "tags": []
   },
   "outputs": [
    {
     "name": "stderr",
     "output_type": "stream",
     "text": [
      "C:\\Users\\Asus\\PycharmProjects\\cars_prediction_project\\venv\\lib\\site-packages\\sklearn\\preprocessing\\_encoders.py:975: FutureWarning: `sparse` was renamed to `sparse_output` in version 1.2 and will be removed in 1.4. `sparse_output` is ignored unless you leave `sparse` to its default value.\n",
      "  warnings.warn(\n"
     ]
    }
   ],
   "source": [
    "X_train_tnf = column_transformer.fit_transform(X_train)"
   ]
  },
  {
   "cell_type": "code",
   "execution_count": 52,
   "id": "d27a15f1",
   "metadata": {
    "execution": {
     "iopub.execute_input": "2023-05-23T11:00:53.066201Z",
     "iopub.status.busy": "2023-05-23T11:00:53.065418Z",
     "iopub.status.idle": "2023-05-23T11:00:53.442358Z",
     "shell.execute_reply": "2023-05-23T11:00:53.440910Z"
    },
    "papermill": {
     "duration": 0.420293,
     "end_time": "2023-05-23T11:00:53.445549",
     "exception": false,
     "start_time": "2023-05-23T11:00:53.025256",
     "status": "completed"
    },
    "tags": []
   },
   "outputs": [],
   "source": [
    "X_test_tnf = column_transformer.transform(X_test)"
   ]
  },
  {
   "cell_type": "code",
   "execution_count": 53,
   "id": "d6a24e91",
   "metadata": {
    "execution": {
     "iopub.execute_input": "2023-05-23T11:00:53.524981Z",
     "iopub.status.busy": "2023-05-23T11:00:53.524185Z",
     "iopub.status.idle": "2023-05-23T11:00:53.531284Z",
     "shell.execute_reply": "2023-05-23T11:00:53.530038Z"
    },
    "papermill": {
     "duration": 0.050327,
     "end_time": "2023-05-23T11:00:53.533659",
     "exception": false,
     "start_time": "2023-05-23T11:00:53.483332",
     "status": "completed"
    },
    "tags": []
   },
   "outputs": [
    {
     "name": "stdout",
     "output_type": "stream",
     "text": [
      "(211832, 172)\n",
      "(52958, 172)\n"
     ]
    }
   ],
   "source": [
    "print(pd.DataFrame(X_train_tnf).shape)\n",
    "print(pd.DataFrame(X_test_tnf).shape)"
   ]
  },
  {
   "cell_type": "markdown",
   "id": "49c4580c",
   "metadata": {
    "papermill": {
     "duration": 0.038169,
     "end_time": "2023-05-23T11:00:53.609175",
     "exception": false,
     "start_time": "2023-05-23T11:00:53.571006",
     "status": "completed"
    },
    "tags": []
   },
   "source": [
    "# **Model Training**"
   ]
  },
  {
   "cell_type": "code",
   "execution_count": 54,
   "id": "1c59525e",
   "metadata": {
    "execution": {
     "iopub.execute_input": "2023-05-23T11:00:53.688052Z",
     "iopub.status.busy": "2023-05-23T11:00:53.687287Z",
     "iopub.status.idle": "2023-05-23T11:00:55.957487Z",
     "shell.execute_reply": "2023-05-23T11:00:55.956145Z"
    },
    "papermill": {
     "duration": 2.313211,
     "end_time": "2023-05-23T11:00:55.960696",
     "exception": false,
     "start_time": "2023-05-23T11:00:53.647485",
     "status": "completed"
    },
    "tags": []
   },
   "outputs": [],
   "source": [
    "from sklearn.metrics import mean_squared_error, mean_absolute_error,  r2_score, mean_squared_log_error\n",
    "from sklearn.linear_model import LinearRegression\n",
    "from sklearn.ensemble import RandomForestRegressor\n",
    "import warnings\n",
    "warnings.filterwarnings('ignore')"
   ]
  },
  {
   "cell_type": "code",
   "execution_count": 55,
   "id": "54550055",
   "metadata": {
    "execution": {
     "iopub.execute_input": "2023-05-23T11:00:56.040723Z",
     "iopub.status.busy": "2023-05-23T11:00:56.040293Z",
     "iopub.status.idle": "2023-05-23T11:00:56.048906Z",
     "shell.execute_reply": "2023-05-23T11:00:56.048032Z"
    },
    "papermill": {
     "duration": 0.051775,
     "end_time": "2023-05-23T11:00:56.051256",
     "exception": false,
     "start_time": "2023-05-23T11:00:55.999481",
     "status": "completed"
    },
    "tags": []
   },
   "outputs": [],
   "source": [
    "def result(y_test, y_pred):\n",
    "    r=[]\n",
    "    r.append('%.4f' % r2_score(y_test,y_pred))\n",
    "    r.append('%.4f' % (r2_score(y_test,y_pred)*100))\n",
    "    r.append('%.2f' % mean_squared_error(y_test, y_pred))\n",
    "    r.append('%.2f' % mean_absolute_error(y_test, y_pred))\n",
    "    r.append('%.2f' % np.sqrt(mean_squared_error(y_test, y_pred)))\n",
    "    \n",
    "    return (r)\n",
    "\n",
    "#dataframe that store the performance of each model\n",
    "score_data = pd.DataFrame(index=['R2 Score', 'Accuracy(%)', 'Mean Squared Error', 'Mean Absolute Error', 'Root MSE'])"
   ]
  },
  {
   "cell_type": "markdown",
   "id": "d088ce4e",
   "metadata": {
    "papermill": {
     "duration": 0.037612,
     "end_time": "2023-05-23T11:00:56.126928",
     "exception": false,
     "start_time": "2023-05-23T11:00:56.089316",
     "status": "completed"
    },
    "tags": []
   },
   "source": [
    "**Linear Regression**"
   ]
  },
  {
   "cell_type": "code",
   "execution_count": 56,
   "id": "e9ba648a",
   "metadata": {
    "execution": {
     "iopub.execute_input": "2023-05-23T11:00:56.205008Z",
     "iopub.status.busy": "2023-05-23T11:00:56.203586Z",
     "iopub.status.idle": "2023-05-23T11:01:01.719373Z",
     "shell.execute_reply": "2023-05-23T11:01:01.717698Z"
    },
    "papermill": {
     "duration": 5.560701,
     "end_time": "2023-05-23T11:01:01.725061",
     "exception": false,
     "start_time": "2023-05-23T11:00:56.164360",
     "status": "completed"
    },
    "tags": []
   },
   "outputs": [],
   "source": [
    "LR = LinearRegression()\n",
    "LR.fit(X_train_tnf, y_train)\n",
    "y_pred = LR.predict(X_test_tnf)"
   ]
  },
  {
   "cell_type": "code",
   "execution_count": 57,
   "id": "91b464df",
   "metadata": {
    "execution": {
     "iopub.execute_input": "2023-05-23T11:01:01.870930Z",
     "iopub.status.busy": "2023-05-23T11:01:01.870461Z",
     "iopub.status.idle": "2023-05-23T11:01:01.886688Z",
     "shell.execute_reply": "2023-05-23T11:01:01.884995Z"
    },
    "papermill": {
     "duration": 0.06385,
     "end_time": "2023-05-23T11:01:01.889506",
     "exception": false,
     "start_time": "2023-05-23T11:01:01.825656",
     "status": "completed"
    },
    "tags": []
   },
   "outputs": [
    {
     "name": "stdout",
     "output_type": "stream",
     "text": [
      "R2_score:  0.6523\n",
      "Mean squared error:  50719246.91\n",
      "Mean absolute error:  5399.80\n",
      "Root mean squared error:  7121.74\n"
     ]
    }
   ],
   "source": [
    "R2_score = r2_score(y_test, y_pred)*100\n",
    "score_lr = result(y_test, y_pred)\n",
    "score_data['Linear Regression'] = score_lr\n",
    "print('R2_score: ', score_lr[0])\n",
    "print('Mean squared error: ', score_lr[2])\n",
    "print('Mean absolute error: ', score_lr[3])\n",
    "print('Root mean squared error: ', score_lr[4])"
   ]
  },
  {
   "cell_type": "markdown",
   "id": "cd7a3aae",
   "metadata": {
    "papermill": {
     "duration": 0.038385,
     "end_time": "2023-05-23T11:02:20.925859",
     "exception": false,
     "start_time": "2023-05-23T11:02:20.887474",
     "status": "completed"
    },
    "tags": []
   },
   "source": [
    "**Random Forest Regression**"
   ]
  },
  {
   "cell_type": "code",
   "execution_count": 58,
   "id": "1d93b1a8",
   "metadata": {
    "execution": {
     "iopub.execute_input": "2023-05-23T11:02:21.006294Z",
     "iopub.status.busy": "2023-05-23T11:02:21.005060Z",
     "iopub.status.idle": "2023-05-23T11:07:16.005699Z",
     "shell.execute_reply": "2023-05-23T11:07:16.004644Z"
    },
    "papermill": {
     "duration": 295.043917,
     "end_time": "2023-05-23T11:07:16.008840",
     "exception": false,
     "start_time": "2023-05-23T11:02:20.964923",
     "status": "completed"
    },
    "tags": []
   },
   "outputs": [],
   "source": [
    "RFR = RandomForestRegressor(n_estimators=150,random_state=0, min_samples_leaf=1, max_features=0.3, n_jobs=-1, oob_score=True)\n",
    "RFR.fit(X_train_tnf, y_train)\n",
    "y_pred = RFR.predict(X_test_tnf)"
   ]
  },
  {
   "cell_type": "code",
   "execution_count": 58,
   "id": "a3c5116f",
   "metadata": {
    "execution": {
     "iopub.execute_input": "2023-05-23T11:07:16.089658Z",
     "iopub.status.busy": "2023-05-23T11:07:16.088432Z",
     "iopub.status.idle": "2023-05-23T11:07:16.100948Z",
     "shell.execute_reply": "2023-05-23T11:07:16.099864Z"
    },
    "papermill": {
     "duration": 0.055202,
     "end_time": "2023-05-23T11:07:16.103483",
     "exception": false,
     "start_time": "2023-05-23T11:07:16.048281",
     "status": "completed"
    },
    "tags": []
   },
   "outputs": [
    {
     "name": "stdout",
     "output_type": "stream",
     "text": [
      "R2 score:  0.8602\n",
      "Mean squared error:  20401237.57\n",
      "Mean absolute error:  2607.77\n",
      "Root mean squared error:  4516.77\n"
     ]
    }
   ],
   "source": [
    "score_rfr = result(y_test, y_pred)\n",
    "score_data['Random Forest Regression'] = score_rfr\n",
    "print('R2 score: ', score_rfr[0])\n",
    "print('Mean squared error: ', score_rfr[2])\n",
    "print('Mean absolute error: ', score_rfr[3])\n",
    "print('Root mean squared error: ', score_rfr[4])"
   ]
  }
 ],
 "metadata": {
  "kernelspec": {
   "display_name": "Python 3 (ipykernel)",
   "language": "python",
   "name": "python3"
  },
  "language_info": {
   "codemirror_mode": {
    "name": "ipython",
    "version": 3
   },
   "file_extension": ".py",
   "mimetype": "text/x-python",
   "name": "python",
   "nbconvert_exporter": "python",
   "pygments_lexer": "ipython3",
   "version": "3.8.0"
  },
  "papermill": {
   "default_parameters": {},
   "duration": 3909.883354,
   "end_time": "2023-05-23T12:03:17.629552",
   "environment_variables": {},
   "exception": null,
   "input_path": "__notebook__.ipynb",
   "output_path": "__notebook__.ipynb",
   "parameters": {},
   "start_time": "2023-05-23T10:58:07.746198",
   "version": "2.4.0"
  }
 },
 "nbformat": 4,
 "nbformat_minor": 5
}
