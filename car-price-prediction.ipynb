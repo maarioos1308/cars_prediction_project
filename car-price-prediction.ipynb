{
 "cells": [
  {
   "cell_type": "markdown",
   "id": "05c2e988",
   "metadata": {
    "papermill": {
     "duration": 0.037705,
     "end_time": "2023-05-23T10:58:22.478880",
     "exception": false,
     "start_time": "2023-05-23T10:58:22.441175",
     "status": "completed"
    },
    "tags": []
   },
   "source": [
    "# **Importing all the essential libraries**"
   ]
  },
  {
   "cell_type": "code",
   "execution_count": 1,
   "id": "2e1b5dad",
   "metadata": {
    "execution": {
     "iopub.execute_input": "2023-05-23T10:58:22.552487Z",
     "iopub.status.busy": "2023-05-23T10:58:22.551501Z",
     "iopub.status.idle": "2023-05-23T10:58:24.330037Z",
     "shell.execute_reply": "2023-05-23T10:58:24.328550Z"
    },
    "papermill": {
     "duration": 1.814123,
     "end_time": "2023-05-23T10:58:24.333270",
     "exception": false,
     "start_time": "2023-05-23T10:58:22.519147",
     "status": "completed"
    },
    "tags": []
   },
   "outputs": [],
   "source": [
    "import pandas as pd\n",
    "import numpy as np\n",
    "from sklearn.preprocessing import StandardScaler\n",
    "from sklearn.preprocessing import OneHotEncoder\n",
    "from sklearn.preprocessing import OrdinalEncoder\n",
    "from sklearn.compose import ColumnTransformer"
   ]
  },
  {
   "cell_type": "code",
   "execution_count": 2,
   "id": "e9dba768",
   "metadata": {
    "execution": {
     "iopub.execute_input": "2023-05-23T10:58:24.395693Z",
     "iopub.status.busy": "2023-05-23T10:58:24.394583Z",
     "iopub.status.idle": "2023-05-23T10:59:11.669651Z",
     "shell.execute_reply": "2023-05-23T10:59:11.668182Z"
    },
    "papermill": {
     "duration": 47.310246,
     "end_time": "2023-05-23T10:59:11.673387",
     "exception": false,
     "start_time": "2023-05-23T10:58:24.363141",
     "status": "completed"
    },
    "tags": []
   },
   "outputs": [],
   "source": [
    "df = pd.read_csv('/Users/Asus/Desktop/vehicles.csv')"
   ]
  },
  {
   "cell_type": "markdown",
   "id": "d5ba665b",
   "metadata": {
    "papermill": {
     "duration": 0.029988,
     "end_time": "2023-05-23T10:59:11.735222",
     "exception": false,
     "start_time": "2023-05-23T10:59:11.705234",
     "status": "completed"
    },
    "tags": []
   },
   "source": [
    "# **Exploratory Data Analysis (EDA)**"
   ]
  },
  {
   "cell_type": "code",
   "execution_count": 3,
   "id": "a6a9de47",
   "metadata": {
    "execution": {
     "iopub.execute_input": "2023-05-23T10:59:11.799056Z",
     "iopub.status.busy": "2023-05-23T10:59:11.797833Z",
     "iopub.status.idle": "2023-05-23T10:59:11.875218Z",
     "shell.execute_reply": "2023-05-23T10:59:11.873769Z"
    },
    "papermill": {
     "duration": 0.112715,
     "end_time": "2023-05-23T10:59:11.878051",
     "exception": false,
     "start_time": "2023-05-23T10:59:11.765336",
     "status": "completed"
    },
    "tags": []
   },
   "outputs": [
    {
     "data": {
      "text/plain": "                id                                                url  \\\n293218  7311447492  https://cleveland.craigslist.org/ctd/d/south-a...   \n240279  7316784639  https://raleigh.craigslist.org/ctd/d/raleigh-2...   \n396724  7311056800  https://richmond.craigslist.org/ctd/d/thornbur...   \n16774   7310662611  https://tucson.craigslist.org/ctd/d/tucson-for...   \n404144  7309645362  https://kpr.craigslist.org/ctd/d/pasco-2017-ca...   \n\n                          region                        region_url  price  \\\n293218                 cleveland  https://cleveland.craigslist.org  63990   \n240279     raleigh / durham / CH    https://raleigh.craigslist.org   4950   \n396724                  richmond   https://richmond.craigslist.org   9970   \n16774                     tucson     https://tucson.craigslist.org  16999   \n404144  kennewick-pasco-richland        https://kpr.craigslist.org      0   \n\n          year manufacturer                            model  condition  \\\n293218  2017.0          NaN  Freightliner M2 106 Medium Duty       good   \n240279  2005.0       toyota                           sienna       good   \n396724  2009.0         ford                    f-150 xlt 4x4       good   \n16774   2004.0         ford                             f350  excellent   \n404144  2017.0     cadillac           xt5 luxury awd gas suv        NaN   \n\n          cylinders  ...       size    type paint_color  \\\n293218  6 cylinders  ...  full-size   truck       white   \n240279  6 cylinders  ...  full-size     van        blue   \n396724  8 cylinders  ...  full-size  pickup       white   \n16774   8 cylinders  ...  full-size  pickup       white   \n404144          NaN  ...        NaN     SUV        blue   \n\n                                                image_url  \\\n293218  https://images.craigslist.org/00v0v_1ZMx374UaY...   \n240279  https://images.craigslist.org/01313_6QeEMchtln...   \n396724  https://images.craigslist.org/00I0I_4SimWAN4MA...   \n16774   https://images.craigslist.org/00m0m_g6M9oHqSx3...   \n404144  https://images.craigslist.org/00Z0Z_bLGw4cmYKA...   \n\n                                              description county state  \\\n293218  2017 Freightliner M2 106 Medium Duty 24 FOOT B...    NaN    oh   \n240279  2005 Toyota Sienna 4dr CE 7-Passenger - $4,950...    NaN    nc   \n396724  VIN:  1FTPX14V09KB41805 MILEAGE: 167,546  This...    NaN    va   \n16774   😍 2004 Ford F-350 Supercab XLT Diesel Only 91k...    NaN    az   \n404144  2017 Cadillac XT5 Luxury AWD **Clean Carfax AW...    NaN    wa   \n\n              lat        long              posting_date  \n293218  40.468785  -74.281707  2021-04-23T13:38:44-0400  \n240279  35.710933  -78.660041  2021-05-04T12:45:26-0400  \n396724  38.133829  -77.522010  2021-04-22T17:04:22-0400  \n16774   32.280672 -110.994405  2021-04-21T18:17:42-0700  \n404144  46.234838 -119.128015  2021-04-19T20:27:05-0700  \n\n[5 rows x 26 columns]",
      "text/html": "<div>\n<style scoped>\n    .dataframe tbody tr th:only-of-type {\n        vertical-align: middle;\n    }\n\n    .dataframe tbody tr th {\n        vertical-align: top;\n    }\n\n    .dataframe thead th {\n        text-align: right;\n    }\n</style>\n<table border=\"1\" class=\"dataframe\">\n  <thead>\n    <tr style=\"text-align: right;\">\n      <th></th>\n      <th>id</th>\n      <th>url</th>\n      <th>region</th>\n      <th>region_url</th>\n      <th>price</th>\n      <th>year</th>\n      <th>manufacturer</th>\n      <th>model</th>\n      <th>condition</th>\n      <th>cylinders</th>\n      <th>...</th>\n      <th>size</th>\n      <th>type</th>\n      <th>paint_color</th>\n      <th>image_url</th>\n      <th>description</th>\n      <th>county</th>\n      <th>state</th>\n      <th>lat</th>\n      <th>long</th>\n      <th>posting_date</th>\n    </tr>\n  </thead>\n  <tbody>\n    <tr>\n      <th>293218</th>\n      <td>7311447492</td>\n      <td>https://cleveland.craigslist.org/ctd/d/south-a...</td>\n      <td>cleveland</td>\n      <td>https://cleveland.craigslist.org</td>\n      <td>63990</td>\n      <td>2017.0</td>\n      <td>NaN</td>\n      <td>Freightliner M2 106 Medium Duty</td>\n      <td>good</td>\n      <td>6 cylinders</td>\n      <td>...</td>\n      <td>full-size</td>\n      <td>truck</td>\n      <td>white</td>\n      <td>https://images.craigslist.org/00v0v_1ZMx374UaY...</td>\n      <td>2017 Freightliner M2 106 Medium Duty 24 FOOT B...</td>\n      <td>NaN</td>\n      <td>oh</td>\n      <td>40.468785</td>\n      <td>-74.281707</td>\n      <td>2021-04-23T13:38:44-0400</td>\n    </tr>\n    <tr>\n      <th>240279</th>\n      <td>7316784639</td>\n      <td>https://raleigh.craigslist.org/ctd/d/raleigh-2...</td>\n      <td>raleigh / durham / CH</td>\n      <td>https://raleigh.craigslist.org</td>\n      <td>4950</td>\n      <td>2005.0</td>\n      <td>toyota</td>\n      <td>sienna</td>\n      <td>good</td>\n      <td>6 cylinders</td>\n      <td>...</td>\n      <td>full-size</td>\n      <td>van</td>\n      <td>blue</td>\n      <td>https://images.craigslist.org/01313_6QeEMchtln...</td>\n      <td>2005 Toyota Sienna 4dr CE 7-Passenger - $4,950...</td>\n      <td>NaN</td>\n      <td>nc</td>\n      <td>35.710933</td>\n      <td>-78.660041</td>\n      <td>2021-05-04T12:45:26-0400</td>\n    </tr>\n    <tr>\n      <th>396724</th>\n      <td>7311056800</td>\n      <td>https://richmond.craigslist.org/ctd/d/thornbur...</td>\n      <td>richmond</td>\n      <td>https://richmond.craigslist.org</td>\n      <td>9970</td>\n      <td>2009.0</td>\n      <td>ford</td>\n      <td>f-150 xlt 4x4</td>\n      <td>good</td>\n      <td>8 cylinders</td>\n      <td>...</td>\n      <td>full-size</td>\n      <td>pickup</td>\n      <td>white</td>\n      <td>https://images.craigslist.org/00I0I_4SimWAN4MA...</td>\n      <td>VIN:  1FTPX14V09KB41805 MILEAGE: 167,546  This...</td>\n      <td>NaN</td>\n      <td>va</td>\n      <td>38.133829</td>\n      <td>-77.522010</td>\n      <td>2021-04-22T17:04:22-0400</td>\n    </tr>\n    <tr>\n      <th>16774</th>\n      <td>7310662611</td>\n      <td>https://tucson.craigslist.org/ctd/d/tucson-for...</td>\n      <td>tucson</td>\n      <td>https://tucson.craigslist.org</td>\n      <td>16999</td>\n      <td>2004.0</td>\n      <td>ford</td>\n      <td>f350</td>\n      <td>excellent</td>\n      <td>8 cylinders</td>\n      <td>...</td>\n      <td>full-size</td>\n      <td>pickup</td>\n      <td>white</td>\n      <td>https://images.craigslist.org/00m0m_g6M9oHqSx3...</td>\n      <td>😍 2004 Ford F-350 Supercab XLT Diesel Only 91k...</td>\n      <td>NaN</td>\n      <td>az</td>\n      <td>32.280672</td>\n      <td>-110.994405</td>\n      <td>2021-04-21T18:17:42-0700</td>\n    </tr>\n    <tr>\n      <th>404144</th>\n      <td>7309645362</td>\n      <td>https://kpr.craigslist.org/ctd/d/pasco-2017-ca...</td>\n      <td>kennewick-pasco-richland</td>\n      <td>https://kpr.craigslist.org</td>\n      <td>0</td>\n      <td>2017.0</td>\n      <td>cadillac</td>\n      <td>xt5 luxury awd gas suv</td>\n      <td>NaN</td>\n      <td>NaN</td>\n      <td>...</td>\n      <td>NaN</td>\n      <td>SUV</td>\n      <td>blue</td>\n      <td>https://images.craigslist.org/00Z0Z_bLGw4cmYKA...</td>\n      <td>2017 Cadillac XT5 Luxury AWD **Clean Carfax AW...</td>\n      <td>NaN</td>\n      <td>wa</td>\n      <td>46.234838</td>\n      <td>-119.128015</td>\n      <td>2021-04-19T20:27:05-0700</td>\n    </tr>\n  </tbody>\n</table>\n<p>5 rows × 26 columns</p>\n</div>"
     },
     "execution_count": 3,
     "metadata": {},
     "output_type": "execute_result"
    }
   ],
   "source": [
    "df.sample(5)"
   ]
  },
  {
   "cell_type": "code",
   "execution_count": 4,
   "id": "36656556",
   "metadata": {
    "execution": {
     "iopub.execute_input": "2023-05-23T10:59:11.943849Z",
     "iopub.status.busy": "2023-05-23T10:59:11.942566Z",
     "iopub.status.idle": "2023-05-23T10:59:11.949593Z",
     "shell.execute_reply": "2023-05-23T10:59:11.948643Z"
    },
    "papermill": {
     "duration": 0.042284,
     "end_time": "2023-05-23T10:59:11.951983",
     "exception": false,
     "start_time": "2023-05-23T10:59:11.909699",
     "status": "completed"
    },
    "tags": []
   },
   "outputs": [
    {
     "data": {
      "text/plain": "(426880, 26)"
     },
     "execution_count": 4,
     "metadata": {},
     "output_type": "execute_result"
    }
   ],
   "source": [
    "df.shape"
   ]
  },
  {
   "cell_type": "code",
   "execution_count": 5,
   "id": "ee8a2089",
   "metadata": {
    "execution": {
     "iopub.execute_input": "2023-05-23T10:59:12.016723Z",
     "iopub.status.busy": "2023-05-23T10:59:12.015676Z",
     "iopub.status.idle": "2023-05-23T10:59:12.023791Z",
     "shell.execute_reply": "2023-05-23T10:59:12.022521Z"
    },
    "papermill": {
     "duration": 0.043921,
     "end_time": "2023-05-23T10:59:12.026634",
     "exception": false,
     "start_time": "2023-05-23T10:59:11.982713",
     "status": "completed"
    },
    "tags": []
   },
   "outputs": [
    {
     "data": {
      "text/plain": "Index(['id', 'url', 'region', 'region_url', 'price', 'year', 'manufacturer',\n       'model', 'condition', 'cylinders', 'fuel', 'odometer', 'title_status',\n       'transmission', 'VIN', 'drive', 'size', 'type', 'paint_color',\n       'image_url', 'description', 'county', 'state', 'lat', 'long',\n       'posting_date'],\n      dtype='object')"
     },
     "execution_count": 5,
     "metadata": {},
     "output_type": "execute_result"
    }
   ],
   "source": [
    "df.columns"
   ]
  },
  {
   "cell_type": "markdown",
   "id": "0309e143",
   "metadata": {
    "papermill": {
     "duration": 0.031427,
     "end_time": "2023-05-23T10:59:12.088783",
     "exception": false,
     "start_time": "2023-05-23T10:59:12.057356",
     "status": "completed"
    },
    "tags": []
   },
   "source": [
    "**Checking total missing values**"
   ]
  },
  {
   "cell_type": "code",
   "execution_count": 6,
   "id": "fb33bfde",
   "metadata": {
    "execution": {
     "iopub.execute_input": "2023-05-23T10:59:12.156058Z",
     "iopub.status.busy": "2023-05-23T10:59:12.155496Z",
     "iopub.status.idle": "2023-05-23T10:59:14.680899Z",
     "shell.execute_reply": "2023-05-23T10:59:14.679542Z"
    },
    "papermill": {
     "duration": 2.561981,
     "end_time": "2023-05-23T10:59:14.683803",
     "exception": false,
     "start_time": "2023-05-23T10:59:12.121822",
     "status": "completed"
    },
    "tags": []
   },
   "outputs": [
    {
     "data": {
      "text/plain": "id                   0\nurl                  0\nregion               0\nregion_url           0\nprice                0\nyear              1205\nmanufacturer     17646\nmodel             5277\ncondition       174104\ncylinders       177678\nfuel              3013\nodometer          4400\ntitle_status      8242\ntransmission      2556\nVIN             161042\ndrive           130567\nsize            306361\ntype             92858\npaint_color     130203\nimage_url           68\ndescription         70\ncounty          426880\nstate                0\nlat               6549\nlong              6549\nposting_date        68\ndtype: int64"
     },
     "execution_count": 6,
     "metadata": {},
     "output_type": "execute_result"
    }
   ],
   "source": [
    "df.isna().sum()"
   ]
  },
  {
   "cell_type": "code",
   "execution_count": 7,
   "id": "6321919b",
   "metadata": {
    "execution": {
     "iopub.execute_input": "2023-05-23T10:59:14.748851Z",
     "iopub.status.busy": "2023-05-23T10:59:14.748348Z",
     "iopub.status.idle": "2023-05-23T10:59:17.292277Z",
     "shell.execute_reply": "2023-05-23T10:59:17.290704Z"
    },
    "papermill": {
     "duration": 2.580453,
     "end_time": "2023-05-23T10:59:17.295473",
     "exception": false,
     "start_time": "2023-05-23T10:59:14.715020",
     "status": "completed"
    },
    "tags": []
   },
   "outputs": [
    {
     "name": "stdout",
     "output_type": "stream",
     "text": [
      "<class 'pandas.core.frame.DataFrame'>\n",
      "RangeIndex: 426880 entries, 0 to 426879\n",
      "Data columns (total 26 columns):\n",
      " #   Column        Non-Null Count   Dtype  \n",
      "---  ------        --------------   -----  \n",
      " 0   id            426880 non-null  int64  \n",
      " 1   url           426880 non-null  object \n",
      " 2   region        426880 non-null  object \n",
      " 3   region_url    426880 non-null  object \n",
      " 4   price         426880 non-null  int64  \n",
      " 5   year          425675 non-null  float64\n",
      " 6   manufacturer  409234 non-null  object \n",
      " 7   model         421603 non-null  object \n",
      " 8   condition     252776 non-null  object \n",
      " 9   cylinders     249202 non-null  object \n",
      " 10  fuel          423867 non-null  object \n",
      " 11  odometer      422480 non-null  float64\n",
      " 12  title_status  418638 non-null  object \n",
      " 13  transmission  424324 non-null  object \n",
      " 14  VIN           265838 non-null  object \n",
      " 15  drive         296313 non-null  object \n",
      " 16  size          120519 non-null  object \n",
      " 17  type          334022 non-null  object \n",
      " 18  paint_color   296677 non-null  object \n",
      " 19  image_url     426812 non-null  object \n",
      " 20  description   426810 non-null  object \n",
      " 21  county        0 non-null       float64\n",
      " 22  state         426880 non-null  object \n",
      " 23  lat           420331 non-null  float64\n",
      " 24  long          420331 non-null  float64\n",
      " 25  posting_date  426812 non-null  object \n",
      "dtypes: float64(5), int64(2), object(19)\n",
      "memory usage: 84.7+ MB\n"
     ]
    }
   ],
   "source": [
    "df.info()"
   ]
  },
  {
   "cell_type": "markdown",
   "id": "c2daee8d",
   "metadata": {
    "papermill": {
     "duration": 0.031666,
     "end_time": "2023-05-23T10:59:17.358480",
     "exception": false,
     "start_time": "2023-05-23T10:59:17.326814",
     "status": "completed"
    },
    "tags": []
   },
   "source": [
    "# **Data Cleaning**"
   ]
  },
  {
   "cell_type": "markdown",
   "id": "8ba9af48",
   "metadata": {
    "papermill": {
     "duration": 0.031539,
     "end_time": "2023-05-23T10:59:17.422599",
     "exception": false,
     "start_time": "2023-05-23T10:59:17.391060",
     "status": "completed"
    },
    "tags": []
   },
   "source": [
    "**Extracting important features (Feature Selection)**"
   ]
  },
  {
   "cell_type": "code",
   "execution_count": 8,
   "id": "af35382b",
   "metadata": {
    "execution": {
     "iopub.execute_input": "2023-05-23T10:59:17.489035Z",
     "iopub.status.busy": "2023-05-23T10:59:17.488532Z",
     "iopub.status.idle": "2023-05-23T10:59:17.717109Z",
     "shell.execute_reply": "2023-05-23T10:59:17.716130Z"
    },
    "papermill": {
     "duration": 0.266023,
     "end_time": "2023-05-23T10:59:17.719450",
     "exception": false,
     "start_time": "2023-05-23T10:59:17.453427",
     "status": "completed"
    },
    "tags": []
   },
   "outputs": [],
   "source": [
    "df.drop(['id', 'url', 'region_url', 'VIN', 'image_url', 'description', 'county', 'lat', 'long', 'posting_date', 'size', 'state'], axis=1, inplace=True)"
   ]
  },
  {
   "cell_type": "markdown",
   "id": "55d5cb54",
   "metadata": {
    "papermill": {
     "duration": 0.030714,
     "end_time": "2023-05-23T10:59:17.781334",
     "exception": false,
     "start_time": "2023-05-23T10:59:17.750620",
     "status": "completed"
    },
    "tags": []
   },
   "source": [
    "**Handling missing values**"
   ]
  },
  {
   "cell_type": "code",
   "execution_count": 9,
   "id": "021a5402",
   "metadata": {
    "execution": {
     "iopub.execute_input": "2023-05-23T10:59:17.845172Z",
     "iopub.status.busy": "2023-05-23T10:59:17.844651Z",
     "iopub.status.idle": "2023-05-23T10:59:19.258030Z",
     "shell.execute_reply": "2023-05-23T10:59:19.256824Z"
    },
    "papermill": {
     "duration": 1.448776,
     "end_time": "2023-05-23T10:59:19.260848",
     "exception": false,
     "start_time": "2023-05-23T10:59:17.812072",
     "status": "completed"
    },
    "tags": []
   },
   "outputs": [
    {
     "data": {
      "text/plain": "region           0.000000\nprice            0.000000\nyear             0.282281\nmanufacturer     4.133714\nmodel            1.236179\ncondition       40.785232\ncylinders       41.622470\nfuel             0.705819\nodometer         1.030735\ntitle_status     1.930753\ntransmission     0.598763\ndrive           30.586347\ntype            21.752717\npaint_color     30.501078\ndtype: float64"
     },
     "execution_count": 9,
     "metadata": {},
     "output_type": "execute_result"
    }
   ],
   "source": [
    "df.isna().sum()/df.shape[0]*100"
   ]
  },
  {
   "cell_type": "markdown",
   "id": "28e10f4c",
   "metadata": {
    "papermill": {
     "duration": 0.030728,
     "end_time": "2023-05-23T10:59:19.322886",
     "exception": false,
     "start_time": "2023-05-23T10:59:19.292158",
     "status": "completed"
    },
    "tags": []
   },
   "source": [
    "**We can see that \"year\", \"manufacturer\", \"model\", and \"odometer\" column has less than 5% of null values. So we can simply drop those rows which have null values in these two columns.**"
   ]
  },
  {
   "cell_type": "code",
   "execution_count": 10,
   "id": "3e7b20db",
   "metadata": {
    "execution": {
     "iopub.execute_input": "2023-05-23T10:59:19.387533Z",
     "iopub.status.busy": "2023-05-23T10:59:19.387041Z",
     "iopub.status.idle": "2023-05-23T10:59:19.759579Z",
     "shell.execute_reply": "2023-05-23T10:59:19.758212Z"
    },
    "papermill": {
     "duration": 0.408905,
     "end_time": "2023-05-23T10:59:19.762712",
     "exception": false,
     "start_time": "2023-05-23T10:59:19.353807",
     "status": "completed"
    },
    "tags": []
   },
   "outputs": [],
   "source": [
    "df = df.dropna(subset=['year', 'odometer', 'manufacturer', 'model'])"
   ]
  },
  {
   "cell_type": "markdown",
   "id": "6442b882",
   "metadata": {
    "papermill": {
     "duration": 0.030545,
     "end_time": "2023-05-23T10:59:19.824250",
     "exception": false,
     "start_time": "2023-05-23T10:59:19.793705",
     "status": "completed"
    },
    "tags": []
   },
   "source": [
    "**For all the missing values in other columns, we have just converted them in to a new category, \"unknown\"**"
   ]
  },
  {
   "cell_type": "code",
   "execution_count": 11,
   "id": "4d19ca4a",
   "metadata": {
    "execution": {
     "iopub.execute_input": "2023-05-23T10:59:19.888171Z",
     "iopub.status.busy": "2023-05-23T10:59:19.887683Z",
     "iopub.status.idle": "2023-05-23T10:59:21.370149Z",
     "shell.execute_reply": "2023-05-23T10:59:21.369005Z"
    },
    "papermill": {
     "duration": 1.518126,
     "end_time": "2023-05-23T10:59:21.373278",
     "exception": false,
     "start_time": "2023-05-23T10:59:19.855152",
     "status": "completed"
    },
    "tags": []
   },
   "outputs": [],
   "source": [
    "df.fillna('unknown', inplace=True)"
   ]
  },
  {
   "cell_type": "markdown",
   "id": "d50f838e",
   "metadata": {
    "papermill": {
     "duration": 0.030803,
     "end_time": "2023-05-23T10:59:21.435058",
     "exception": false,
     "start_time": "2023-05-23T10:59:21.404255",
     "status": "completed"
    },
    "tags": []
   },
   "source": [
    "**Handling duplicated values**"
   ]
  },
  {
   "cell_type": "code",
   "execution_count": 12,
   "id": "6b4e8dea",
   "metadata": {
    "execution": {
     "iopub.execute_input": "2023-05-23T10:59:21.500142Z",
     "iopub.status.busy": "2023-05-23T10:59:21.499526Z",
     "iopub.status.idle": "2023-05-23T10:59:22.041395Z",
     "shell.execute_reply": "2023-05-23T10:59:22.040039Z"
    },
    "papermill": {
     "duration": 0.57783,
     "end_time": "2023-05-23T10:59:22.044366",
     "exception": false,
     "start_time": "2023-05-23T10:59:21.466536",
     "status": "completed"
    },
    "tags": []
   },
   "outputs": [
    {
     "data": {
      "text/plain": "53043"
     },
     "execution_count": 12,
     "metadata": {},
     "output_type": "execute_result"
    }
   ],
   "source": [
    "df.duplicated().sum()"
   ]
  },
  {
   "cell_type": "code",
   "execution_count": 13,
   "outputs": [
    {
     "data": {
      "text/plain": "(399883, 14)"
     },
     "execution_count": 13,
     "metadata": {},
     "output_type": "execute_result"
    }
   ],
   "source": [
    "df.shape"
   ],
   "metadata": {
    "collapsed": false
   }
  },
  {
   "cell_type": "code",
   "execution_count": 14,
   "id": "12c0b2e0",
   "metadata": {
    "execution": {
     "iopub.execute_input": "2023-05-23T10:59:22.110717Z",
     "iopub.status.busy": "2023-05-23T10:59:22.110264Z",
     "iopub.status.idle": "2023-05-23T10:59:22.793493Z",
     "shell.execute_reply": "2023-05-23T10:59:22.792033Z"
    },
    "papermill": {
     "duration": 0.720856,
     "end_time": "2023-05-23T10:59:22.796775",
     "exception": false,
     "start_time": "2023-05-23T10:59:22.075919",
     "status": "completed"
    },
    "tags": []
   },
   "outputs": [],
   "source": [
    "df = df.drop_duplicates()"
   ]
  },
  {
   "cell_type": "code",
   "execution_count": 15,
   "id": "75186047",
   "metadata": {
    "execution": {
     "iopub.execute_input": "2023-05-23T10:59:22.861867Z",
     "iopub.status.busy": "2023-05-23T10:59:22.861428Z",
     "iopub.status.idle": "2023-05-23T10:59:22.869040Z",
     "shell.execute_reply": "2023-05-23T10:59:22.868061Z"
    },
    "papermill": {
     "duration": 0.043138,
     "end_time": "2023-05-23T10:59:22.871247",
     "exception": false,
     "start_time": "2023-05-23T10:59:22.828109",
     "status": "completed"
    },
    "tags": []
   },
   "outputs": [
    {
     "data": {
      "text/plain": "(346840, 14)"
     },
     "execution_count": 15,
     "metadata": {},
     "output_type": "execute_result"
    }
   ],
   "source": [
    "df.shape"
   ]
  },
  {
   "cell_type": "markdown",
   "id": "ad167de0",
   "metadata": {
    "papermill": {
     "duration": 0.030711,
     "end_time": "2023-05-23T10:59:22.933063",
     "exception": false,
     "start_time": "2023-05-23T10:59:22.902352",
     "status": "completed"
    },
    "tags": []
   },
   "source": [
    "**Categorical data cleaning**"
   ]
  },
  {
   "cell_type": "code",
   "execution_count": 16,
   "id": "428c909f",
   "metadata": {
    "execution": {
     "iopub.execute_input": "2023-05-23T10:59:22.997459Z",
     "iopub.status.busy": "2023-05-23T10:59:22.996969Z",
     "iopub.status.idle": "2023-05-23T10:59:23.062277Z",
     "shell.execute_reply": "2023-05-23T10:59:23.060971Z"
    },
    "papermill": {
     "duration": 0.101445,
     "end_time": "2023-05-23T10:59:23.065442",
     "exception": false,
     "start_time": "2023-05-23T10:59:22.963997",
     "status": "completed"
    },
    "tags": []
   },
   "outputs": [],
   "source": [
    "manufacturer_values = df['manufacturer'].value_counts()"
   ]
  },
  {
   "cell_type": "code",
   "execution_count": 17,
   "id": "8107f6cf",
   "metadata": {
    "execution": {
     "iopub.execute_input": "2023-05-23T10:59:23.132653Z",
     "iopub.status.busy": "2023-05-23T10:59:23.132189Z",
     "iopub.status.idle": "2023-05-23T10:59:23.139372Z",
     "shell.execute_reply": "2023-05-23T10:59:23.138147Z"
    },
    "papermill": {
     "duration": 0.044931,
     "end_time": "2023-05-23T10:59:23.142690",
     "exception": false,
     "start_time": "2023-05-23T10:59:23.097759",
     "status": "completed"
    },
    "tags": []
   },
   "outputs": [
    {
     "name": "stdout",
     "output_type": "stream",
     "text": [
      "manufacturer\n",
      "ford               60022\n",
      "chevrolet          46111\n",
      "toyota             29054\n",
      "honda              18088\n",
      "jeep               15913\n",
      "nissan             15796\n",
      "ram                14641\n",
      "gmc                14283\n",
      "bmw                12802\n",
      "dodge              11137\n",
      "mercedes-benz      10083\n",
      "hyundai             8438\n",
      "volkswagen          8283\n",
      "subaru              8193\n",
      "lexus               7138\n",
      "kia                 6969\n",
      "audi                6816\n",
      "cadillac            5911\n",
      "acura               5469\n",
      "chrysler            5103\n",
      "buick               4753\n",
      "mazda               4702\n",
      "infiniti            4319\n",
      "lincoln             3764\n",
      "volvo               2907\n",
      "mitsubishi          2874\n",
      "mini                2090\n",
      "pontiac             2022\n",
      "jaguar              1813\n",
      "rover               1572\n",
      "porsche             1179\n",
      "mercury             1005\n",
      "saturn               932\n",
      "alfa-romeo           859\n",
      "tesla                812\n",
      "fiat                 699\n",
      "harley-davidson      121\n",
      "ferrari               69\n",
      "datsun                61\n",
      "aston-martin          22\n",
      "land rover            15\n",
      "Name: count, dtype: int64\n"
     ]
    }
   ],
   "source": [
    "print(manufacturer_values)"
   ]
  },
  {
   "cell_type": "code",
   "execution_count": 18,
   "id": "e679e4cd",
   "metadata": {
    "execution": {
     "iopub.execute_input": "2023-05-23T10:59:23.209223Z",
     "iopub.status.busy": "2023-05-23T10:59:23.208713Z",
     "iopub.status.idle": "2023-05-23T10:59:41.302727Z",
     "shell.execute_reply": "2023-05-23T10:59:41.301250Z"
    },
    "papermill": {
     "duration": 18.131776,
     "end_time": "2023-05-23T10:59:41.305991",
     "exception": false,
     "start_time": "2023-05-23T10:59:23.174215",
     "status": "completed"
    },
    "tags": []
   },
   "outputs": [],
   "source": [
    "df['manufacturer'] = df['manufacturer'].apply(lambda x: x if str(x) in manufacturer_values[:20] else 'others')"
   ]
  },
  {
   "cell_type": "code",
   "execution_count": 19,
   "id": "b1f43faf",
   "metadata": {
    "execution": {
     "iopub.execute_input": "2023-05-23T10:59:41.373632Z",
     "iopub.status.busy": "2023-05-23T10:59:41.373151Z",
     "iopub.status.idle": "2023-05-23T11:00:00.237540Z",
     "shell.execute_reply": "2023-05-23T11:00:00.235674Z"
    },
    "papermill": {
     "duration": 18.903245,
     "end_time": "2023-05-23T11:00:00.241110",
     "exception": false,
     "start_time": "2023-05-23T10:59:41.337865",
     "status": "completed"
    },
    "tags": []
   },
   "outputs": [],
   "source": [
    "region_values = df['region'].value_counts()\n",
    "df['region'] = df['region'].apply(lambda x: x if str(x) in region_values[:50] else 'others')"
   ]
  },
  {
   "cell_type": "code",
   "execution_count": 20,
   "id": "fe866cb7",
   "metadata": {
    "execution": {
     "iopub.execute_input": "2023-05-23T11:00:00.308996Z",
     "iopub.status.busy": "2023-05-23T11:00:00.308510Z",
     "iopub.status.idle": "2023-05-23T11:00:19.424196Z",
     "shell.execute_reply": "2023-05-23T11:00:19.422498Z"
    },
    "papermill": {
     "duration": 19.155726,
     "end_time": "2023-05-23T11:00:19.428637",
     "exception": false,
     "start_time": "2023-05-23T11:00:00.272911",
     "status": "completed"
    },
    "tags": []
   },
   "outputs": [],
   "source": [
    "model_values = df['model'].value_counts()\n",
    "df['model'] = df['model'].apply(lambda x: x if str(x) in model_values[:50] else 'others')"
   ]
  },
  {
   "cell_type": "code",
   "execution_count": 21,
   "id": "76b72361",
   "metadata": {
    "execution": {
     "iopub.execute_input": "2023-05-23T11:00:19.495555Z",
     "iopub.status.busy": "2023-05-23T11:00:19.495074Z",
     "iopub.status.idle": "2023-05-23T11:00:20.146048Z",
     "shell.execute_reply": "2023-05-23T11:00:20.144805Z"
    },
    "papermill": {
     "duration": 0.687446,
     "end_time": "2023-05-23T11:00:20.149108",
     "exception": false,
     "start_time": "2023-05-23T11:00:19.461662",
     "status": "completed"
    },
    "tags": []
   },
   "outputs": [
    {
     "name": "stdout",
     "output_type": "stream",
     "text": [
      "region 51\n",
      "price 15274\n",
      "year 107\n",
      "manufacturer 21\n",
      "model 51\n",
      "condition 7\n",
      "cylinders 9\n",
      "fuel 6\n",
      "odometer 101980\n",
      "title_status 7\n",
      "transmission 4\n",
      "drive 4\n",
      "type 14\n",
      "paint_color 13\n"
     ]
    }
   ],
   "source": [
    "for i in df.columns:\n",
    "  print(i, len(df[i].value_counts().index))"
   ]
  },
  {
   "cell_type": "markdown",
   "id": "3e22726a",
   "metadata": {
    "papermill": {
     "duration": 0.031833,
     "end_time": "2023-05-23T11:00:20.214280",
     "exception": false,
     "start_time": "2023-05-23T11:00:20.182447",
     "status": "completed"
    },
    "tags": []
   },
   "source": [
    "**Numerical Data Cleaning**"
   ]
  },
  {
   "cell_type": "code",
   "execution_count": 22,
   "id": "ad163665",
   "metadata": {
    "execution": {
     "iopub.execute_input": "2023-05-23T11:00:20.282743Z",
     "iopub.status.busy": "2023-05-23T11:00:20.282241Z",
     "iopub.status.idle": "2023-05-23T11:00:20.359640Z",
     "shell.execute_reply": "2023-05-23T11:00:20.358128Z"
    },
    "papermill": {
     "duration": 0.114302,
     "end_time": "2023-05-23T11:00:20.362580",
     "exception": false,
     "start_time": "2023-05-23T11:00:20.248278",
     "status": "completed"
    },
    "tags": []
   },
   "outputs": [
    {
     "data": {
      "text/plain": "              price           year      odometer\ncount  3.468400e+05  346840.000000  3.468400e+05\nmean   6.997499e+04    2011.526814  9.501220e+04\nstd    1.213391e+07       8.876408  1.848760e+05\nmin    0.000000e+00    1900.000000  0.000000e+00\n25%    6.000000e+03    2008.000000  3.600000e+04\n50%    1.458800e+04    2014.000000  8.358900e+04\n75%    2.699000e+04    2017.000000  1.330000e+05\nmax    3.736929e+09    2022.000000  1.000000e+07",
      "text/html": "<div>\n<style scoped>\n    .dataframe tbody tr th:only-of-type {\n        vertical-align: middle;\n    }\n\n    .dataframe tbody tr th {\n        vertical-align: top;\n    }\n\n    .dataframe thead th {\n        text-align: right;\n    }\n</style>\n<table border=\"1\" class=\"dataframe\">\n  <thead>\n    <tr style=\"text-align: right;\">\n      <th></th>\n      <th>price</th>\n      <th>year</th>\n      <th>odometer</th>\n    </tr>\n  </thead>\n  <tbody>\n    <tr>\n      <th>count</th>\n      <td>3.468400e+05</td>\n      <td>346840.000000</td>\n      <td>3.468400e+05</td>\n    </tr>\n    <tr>\n      <th>mean</th>\n      <td>6.997499e+04</td>\n      <td>2011.526814</td>\n      <td>9.501220e+04</td>\n    </tr>\n    <tr>\n      <th>std</th>\n      <td>1.213391e+07</td>\n      <td>8.876408</td>\n      <td>1.848760e+05</td>\n    </tr>\n    <tr>\n      <th>min</th>\n      <td>0.000000e+00</td>\n      <td>1900.000000</td>\n      <td>0.000000e+00</td>\n    </tr>\n    <tr>\n      <th>25%</th>\n      <td>6.000000e+03</td>\n      <td>2008.000000</td>\n      <td>3.600000e+04</td>\n    </tr>\n    <tr>\n      <th>50%</th>\n      <td>1.458800e+04</td>\n      <td>2014.000000</td>\n      <td>8.358900e+04</td>\n    </tr>\n    <tr>\n      <th>75%</th>\n      <td>2.699000e+04</td>\n      <td>2017.000000</td>\n      <td>1.330000e+05</td>\n    </tr>\n    <tr>\n      <th>max</th>\n      <td>3.736929e+09</td>\n      <td>2022.000000</td>\n      <td>1.000000e+07</td>\n    </tr>\n  </tbody>\n</table>\n</div>"
     },
     "execution_count": 22,
     "metadata": {},
     "output_type": "execute_result"
    }
   ],
   "source": [
    "df.describe()"
   ]
  },
  {
   "cell_type": "markdown",
   "id": "5376fad9",
   "metadata": {
    "papermill": {
     "duration": 0.032617,
     "end_time": "2023-05-23T11:00:20.428048",
     "exception": false,
     "start_time": "2023-05-23T11:00:20.395431",
     "status": "completed"
    },
    "tags": []
   },
   "source": [
    "**Our dataset have lots of outliers. Outliers reduces the accuracy of a model. We have to detect outliers and remove them.**"
   ]
  },
  {
   "cell_type": "code",
   "execution_count": 23,
   "id": "68f38ce0",
   "metadata": {
    "execution": {
     "iopub.execute_input": "2023-05-23T11:00:20.494931Z",
     "iopub.status.busy": "2023-05-23T11:00:20.494215Z",
     "iopub.status.idle": "2023-05-23T11:00:20.515777Z",
     "shell.execute_reply": "2023-05-23T11:00:20.514457Z"
    },
    "papermill": {
     "duration": 0.058788,
     "end_time": "2023-05-23T11:00:20.518986",
     "exception": false,
     "start_time": "2023-05-23T11:00:20.460198",
     "status": "completed"
    },
    "tags": []
   },
   "outputs": [],
   "source": [
    "price_percentile25 = df['price'].quantile(0.25)\n",
    "price_percentile75 = df['price'].quantile(0.75)\n",
    "price_iqr = price_percentile75 - price_percentile25"
   ]
  },
  {
   "cell_type": "code",
   "execution_count": 24,
   "id": "8a801d28",
   "metadata": {
    "execution": {
     "iopub.execute_input": "2023-05-23T11:00:20.589055Z",
     "iopub.status.busy": "2023-05-23T11:00:20.587755Z",
     "iopub.status.idle": "2023-05-23T11:00:20.602894Z",
     "shell.execute_reply": "2023-05-23T11:00:20.601504Z"
    },
    "papermill": {
     "duration": 0.052854,
     "end_time": "2023-05-23T11:00:20.606448",
     "exception": false,
     "start_time": "2023-05-23T11:00:20.553594",
     "status": "completed"
    },
    "tags": []
   },
   "outputs": [],
   "source": [
    "price_upper_limit = price_percentile75 + 1.5 * price_iqr\n",
    "price_lower_limit = df['price'].quantile(0.15)"
   ]
  },
  {
   "cell_type": "code",
   "execution_count": 25,
   "id": "459cfc5e",
   "metadata": {
    "execution": {
     "iopub.execute_input": "2023-05-23T11:00:20.677647Z",
     "iopub.status.busy": "2023-05-23T11:00:20.676491Z",
     "iopub.status.idle": "2023-05-23T11:00:20.808089Z",
     "shell.execute_reply": "2023-05-23T11:00:20.806194Z"
    },
    "papermill": {
     "duration": 0.170925,
     "end_time": "2023-05-23T11:00:20.811318",
     "exception": false,
     "start_time": "2023-05-23T11:00:20.640393",
     "status": "completed"
    },
    "tags": []
   },
   "outputs": [],
   "source": [
    "new_df = df[(df['price'] < price_upper_limit) & (df['price'] > price_lower_limit)]"
   ]
  },
  {
   "cell_type": "code",
   "execution_count": 26,
   "outputs": [
    {
     "name": "stdout",
     "output_type": "stream",
     "text": [
      "58475.0\n"
     ]
    }
   ],
   "source": [
    "print(price_upper_limit)"
   ],
   "metadata": {
    "collapsed": false
   }
  },
  {
   "cell_type": "code",
   "execution_count": 27,
   "id": "aa32ca59",
   "metadata": {
    "execution": {
     "iopub.execute_input": "2023-05-23T11:00:20.880430Z",
     "iopub.status.busy": "2023-05-23T11:00:20.879782Z",
     "iopub.status.idle": "2023-05-23T11:00:20.915528Z",
     "shell.execute_reply": "2023-05-23T11:00:20.913535Z"
    },
    "papermill": {
     "duration": 0.073774,
     "end_time": "2023-05-23T11:00:20.919047",
     "exception": false,
     "start_time": "2023-05-23T11:00:20.845273",
     "status": "completed"
    },
    "tags": []
   },
   "outputs": [],
   "source": [
    "odometer_percentile75 = df['odometer'].quantile(0.75)\n",
    "odometer_percentile25 = df['odometer'].quantile(0.25)\n",
    "odometer_iqr = odometer_percentile75 - odometer_percentile25\n",
    "odometer_upper_limit = odometer_percentile75 + 1.5 * odometer_iqr\n",
    "odometer_lower_limit = df['odometer'].quantile(0.05)"
   ]
  },
  {
   "cell_type": "code",
   "execution_count": 28,
   "id": "eb930e7f",
   "metadata": {
    "execution": {
     "iopub.execute_input": "2023-05-23T11:00:20.989155Z",
     "iopub.status.busy": "2023-05-23T11:00:20.988549Z",
     "iopub.status.idle": "2023-05-23T11:00:21.053917Z",
     "shell.execute_reply": "2023-05-23T11:00:21.052421Z"
    },
    "papermill": {
     "duration": 0.105244,
     "end_time": "2023-05-23T11:00:21.057407",
     "exception": false,
     "start_time": "2023-05-23T11:00:20.952163",
     "status": "completed"
    },
    "tags": []
   },
   "outputs": [],
   "source": [
    "new_df = new_df[(new_df['odometer'] < odometer_upper_limit) & (new_df['odometer'] > odometer_lower_limit)]"
   ]
  },
  {
   "cell_type": "code",
   "execution_count": 29,
   "id": "009b5326",
   "metadata": {
    "execution": {
     "iopub.execute_input": "2023-05-23T11:00:21.126081Z",
     "iopub.status.busy": "2023-05-23T11:00:21.124816Z",
     "iopub.status.idle": "2023-05-23T11:00:21.133824Z",
     "shell.execute_reply": "2023-05-23T11:00:21.132521Z"
    },
    "papermill": {
     "duration": 0.046698,
     "end_time": "2023-05-23T11:00:21.136573",
     "exception": false,
     "start_time": "2023-05-23T11:00:21.089875",
     "status": "completed"
    },
    "tags": []
   },
   "outputs": [
    {
     "data": {
      "text/plain": "(273590, 14)"
     },
     "execution_count": 29,
     "metadata": {},
     "output_type": "execute_result"
    }
   ],
   "source": [
    "new_df.shape"
   ]
  },
  {
   "cell_type": "code",
   "execution_count": 30,
   "outputs": [],
   "source": [
    "new_df = new_df[new_df['price'] > 0]"
   ],
   "metadata": {
    "collapsed": false
   }
  },
  {
   "cell_type": "code",
   "execution_count": 31,
   "outputs": [
    {
     "data": {
      "text/plain": "(273590, 14)"
     },
     "execution_count": 31,
     "metadata": {},
     "output_type": "execute_result"
    }
   ],
   "source": [
    "new_df.shape"
   ],
   "metadata": {
    "collapsed": false
   }
  },
  {
   "cell_type": "markdown",
   "id": "33fe4f3d",
   "metadata": {
    "papermill": {
     "duration": 0.032672,
     "end_time": "2023-05-23T11:00:21.201451",
     "exception": false,
     "start_time": "2023-05-23T11:00:21.168779",
     "status": "completed"
    },
    "tags": []
   },
   "source": [
    "# **Feature Engineering**"
   ]
  },
  {
   "cell_type": "code",
   "execution_count": 32,
   "id": "d73b049f",
   "metadata": {
    "execution": {
     "iopub.execute_input": "2023-05-23T11:00:21.270857Z",
     "iopub.status.busy": "2023-05-23T11:00:21.269222Z",
     "iopub.status.idle": "2023-05-23T11:00:21.301034Z",
     "shell.execute_reply": "2023-05-23T11:00:21.299818Z"
    },
    "papermill": {
     "duration": 0.069994,
     "end_time": "2023-05-23T11:00:21.304023",
     "exception": false,
     "start_time": "2023-05-23T11:00:21.234029",
     "status": "completed"
    },
    "tags": []
   },
   "outputs": [
    {
     "data": {
      "text/plain": "                  region  price    year manufacturer   model condition  \\\n389342            others  33590  2014.0       toyota  others      good   \n73497   colorado springs  11699  2015.0          kia  others   unknown   \n291182        cincinnati  24590  2016.0    chevrolet  others      good   \n277824            others  43990  2016.0    chevrolet  others      good   \n380271            others  12995  2009.0        lexus  others   unknown   \n\n          cylinders   fuel  odometer title_status transmission    drive  \\\n389342      unknown  other   55251.0        clean        other  unknown   \n73497   4 cylinders    gas   82864.0        clean    automatic      fwd   \n291182  6 cylinders    gas  100851.0        clean        other      4wd   \n277824  8 cylinders    gas   45542.0        clean    automatic      rwd   \n380271      unknown    gas   99200.0        clean    automatic      fwd   \n\n           type paint_color  \n389342   pickup         red  \n73497     wagon       black  \n291182   pickup         red  \n277824  unknown       white  \n380271  unknown     unknown  ",
      "text/html": "<div>\n<style scoped>\n    .dataframe tbody tr th:only-of-type {\n        vertical-align: middle;\n    }\n\n    .dataframe tbody tr th {\n        vertical-align: top;\n    }\n\n    .dataframe thead th {\n        text-align: right;\n    }\n</style>\n<table border=\"1\" class=\"dataframe\">\n  <thead>\n    <tr style=\"text-align: right;\">\n      <th></th>\n      <th>region</th>\n      <th>price</th>\n      <th>year</th>\n      <th>manufacturer</th>\n      <th>model</th>\n      <th>condition</th>\n      <th>cylinders</th>\n      <th>fuel</th>\n      <th>odometer</th>\n      <th>title_status</th>\n      <th>transmission</th>\n      <th>drive</th>\n      <th>type</th>\n      <th>paint_color</th>\n    </tr>\n  </thead>\n  <tbody>\n    <tr>\n      <th>389342</th>\n      <td>others</td>\n      <td>33590</td>\n      <td>2014.0</td>\n      <td>toyota</td>\n      <td>others</td>\n      <td>good</td>\n      <td>unknown</td>\n      <td>other</td>\n      <td>55251.0</td>\n      <td>clean</td>\n      <td>other</td>\n      <td>unknown</td>\n      <td>pickup</td>\n      <td>red</td>\n    </tr>\n    <tr>\n      <th>73497</th>\n      <td>colorado springs</td>\n      <td>11699</td>\n      <td>2015.0</td>\n      <td>kia</td>\n      <td>others</td>\n      <td>unknown</td>\n      <td>4 cylinders</td>\n      <td>gas</td>\n      <td>82864.0</td>\n      <td>clean</td>\n      <td>automatic</td>\n      <td>fwd</td>\n      <td>wagon</td>\n      <td>black</td>\n    </tr>\n    <tr>\n      <th>291182</th>\n      <td>cincinnati</td>\n      <td>24590</td>\n      <td>2016.0</td>\n      <td>chevrolet</td>\n      <td>others</td>\n      <td>good</td>\n      <td>6 cylinders</td>\n      <td>gas</td>\n      <td>100851.0</td>\n      <td>clean</td>\n      <td>other</td>\n      <td>4wd</td>\n      <td>pickup</td>\n      <td>red</td>\n    </tr>\n    <tr>\n      <th>277824</th>\n      <td>others</td>\n      <td>43990</td>\n      <td>2016.0</td>\n      <td>chevrolet</td>\n      <td>others</td>\n      <td>good</td>\n      <td>8 cylinders</td>\n      <td>gas</td>\n      <td>45542.0</td>\n      <td>clean</td>\n      <td>automatic</td>\n      <td>rwd</td>\n      <td>unknown</td>\n      <td>white</td>\n    </tr>\n    <tr>\n      <th>380271</th>\n      <td>others</td>\n      <td>12995</td>\n      <td>2009.0</td>\n      <td>lexus</td>\n      <td>others</td>\n      <td>unknown</td>\n      <td>unknown</td>\n      <td>gas</td>\n      <td>99200.0</td>\n      <td>clean</td>\n      <td>automatic</td>\n      <td>fwd</td>\n      <td>unknown</td>\n      <td>unknown</td>\n    </tr>\n  </tbody>\n</table>\n</div>"
     },
     "execution_count": 32,
     "metadata": {},
     "output_type": "execute_result"
    }
   ],
   "source": [
    "new_df.sample(5)"
   ]
  },
  {
   "cell_type": "code",
   "execution_count": 33,
   "id": "ae1d1543",
   "metadata": {
    "execution": {
     "iopub.execute_input": "2023-05-23T11:00:21.374017Z",
     "iopub.status.busy": "2023-05-23T11:00:21.372590Z",
     "iopub.status.idle": "2023-05-23T11:00:21.382333Z",
     "shell.execute_reply": "2023-05-23T11:00:21.381094Z"
    },
    "papermill": {
     "duration": 0.048292,
     "end_time": "2023-05-23T11:00:21.385481",
     "exception": false,
     "start_time": "2023-05-23T11:00:21.337189",
     "status": "completed"
    },
    "tags": []
   },
   "outputs": [],
   "source": [
    "new_df['odometer'] = new_df['odometer'].astype(int)"
   ]
  },
  {
   "cell_type": "code",
   "execution_count": 34,
   "id": "3d7dddfb",
   "metadata": {
    "execution": {
     "iopub.execute_input": "2023-05-23T11:00:21.455929Z",
     "iopub.status.busy": "2023-05-23T11:00:21.455423Z",
     "iopub.status.idle": "2023-05-23T11:00:21.463785Z",
     "shell.execute_reply": "2023-05-23T11:00:21.462549Z"
    },
    "papermill": {
     "duration": 0.047428,
     "end_time": "2023-05-23T11:00:21.466543",
     "exception": false,
     "start_time": "2023-05-23T11:00:21.419115",
     "status": "completed"
    },
    "tags": []
   },
   "outputs": [],
   "source": [
    "new_df['year'] = new_df['year'].astype(int)"
   ]
  },
  {
   "cell_type": "markdown",
   "id": "f6d3b160",
   "metadata": {
    "papermill": {
     "duration": 0.033381,
     "end_time": "2023-05-23T11:00:29.697320",
     "exception": false,
     "start_time": "2023-05-23T11:00:29.663939",
     "status": "completed"
    },
    "tags": []
   },
   "source": [
    "**We can see the car data before 2000 is quiet irrelevant with our current times data. So we are extracting all the car data available after 1996**"
   ]
  },
  {
   "cell_type": "code",
   "execution_count": 35,
   "id": "2528a9d7",
   "metadata": {
    "execution": {
     "iopub.execute_input": "2023-05-23T11:00:29.769586Z",
     "iopub.status.busy": "2023-05-23T11:00:29.768734Z",
     "iopub.status.idle": "2023-05-23T11:00:29.836147Z",
     "shell.execute_reply": "2023-05-23T11:00:29.834901Z"
    },
    "papermill": {
     "duration": 0.106902,
     "end_time": "2023-05-23T11:00:29.839260",
     "exception": false,
     "start_time": "2023-05-23T11:00:29.732358",
     "status": "completed"
    },
    "tags": []
   },
   "outputs": [
    {
     "data": {
      "text/plain": "(260292, 14)"
     },
     "execution_count": 35,
     "metadata": {},
     "output_type": "execute_result"
    }
   ],
   "source": [
    "new_df = new_df[new_df['year'] > 2000]\n",
    "new_df.shape"
   ]
  },
  {
   "cell_type": "code",
   "execution_count": 36,
   "id": "13fbf74a",
   "metadata": {
    "execution": {
     "iopub.execute_input": "2023-05-23T11:00:29.910916Z",
     "iopub.status.busy": "2023-05-23T11:00:29.910127Z",
     "iopub.status.idle": "2023-05-23T11:00:30.014411Z",
     "shell.execute_reply": "2023-05-23T11:00:30.013160Z"
    },
    "papermill": {
     "duration": 0.143408,
     "end_time": "2023-05-23T11:00:30.017651",
     "exception": false,
     "start_time": "2023-05-23T11:00:29.874243",
     "status": "completed"
    },
    "tags": []
   },
   "outputs": [
    {
     "data": {
      "text/plain": "               price       odometer        car_age\ncount  260292.000000  260292.000000  260292.000000\nmean    19719.302334   89494.793332       9.823602\nstd     12046.770816   56575.311721       4.584402\nmin      3525.000000    6958.000000       1.000000\n25%      9295.000000   39622.750000       6.000000\n50%     16999.000000   84000.000000       9.000000\n75%     27995.000000  129490.250000      13.000000\nmax     58448.000000  278495.000000      22.000000",
      "text/html": "<div>\n<style scoped>\n    .dataframe tbody tr th:only-of-type {\n        vertical-align: middle;\n    }\n\n    .dataframe tbody tr th {\n        vertical-align: top;\n    }\n\n    .dataframe thead th {\n        text-align: right;\n    }\n</style>\n<table border=\"1\" class=\"dataframe\">\n  <thead>\n    <tr style=\"text-align: right;\">\n      <th></th>\n      <th>price</th>\n      <th>odometer</th>\n      <th>car_age</th>\n    </tr>\n  </thead>\n  <tbody>\n    <tr>\n      <th>count</th>\n      <td>260292.000000</td>\n      <td>260292.000000</td>\n      <td>260292.000000</td>\n    </tr>\n    <tr>\n      <th>mean</th>\n      <td>19719.302334</td>\n      <td>89494.793332</td>\n      <td>9.823602</td>\n    </tr>\n    <tr>\n      <th>std</th>\n      <td>12046.770816</td>\n      <td>56575.311721</td>\n      <td>4.584402</td>\n    </tr>\n    <tr>\n      <th>min</th>\n      <td>3525.000000</td>\n      <td>6958.000000</td>\n      <td>1.000000</td>\n    </tr>\n    <tr>\n      <th>25%</th>\n      <td>9295.000000</td>\n      <td>39622.750000</td>\n      <td>6.000000</td>\n    </tr>\n    <tr>\n      <th>50%</th>\n      <td>16999.000000</td>\n      <td>84000.000000</td>\n      <td>9.000000</td>\n    </tr>\n    <tr>\n      <th>75%</th>\n      <td>27995.000000</td>\n      <td>129490.250000</td>\n      <td>13.000000</td>\n    </tr>\n    <tr>\n      <th>max</th>\n      <td>58448.000000</td>\n      <td>278495.000000</td>\n      <td>22.000000</td>\n    </tr>\n  </tbody>\n</table>\n</div>"
     },
     "execution_count": 36,
     "metadata": {},
     "output_type": "execute_result"
    }
   ],
   "source": [
    "new_df['car_age'] = 2023 - new_df['year']\n",
    "new_df.drop(['year'], axis = 1, inplace = True)\n",
    "new_df.describe()"
   ]
  },
  {
   "cell_type": "code",
   "execution_count": 37,
   "id": "60eee9b3",
   "metadata": {
    "execution": {
     "iopub.execute_input": "2023-05-23T11:00:50.028142Z",
     "iopub.status.busy": "2023-05-23T11:00:50.026903Z",
     "iopub.status.idle": "2023-05-23T11:00:50.051349Z",
     "shell.execute_reply": "2023-05-23T11:00:50.049965Z"
    },
    "papermill": {
     "duration": 0.069175,
     "end_time": "2023-05-23T11:00:50.054702",
     "exception": false,
     "start_time": "2023-05-23T11:00:49.985527",
     "status": "completed"
    },
    "tags": []
   },
   "outputs": [],
   "source": [
    "final_df = new_df.copy()"
   ]
  },
  {
   "cell_type": "markdown",
   "id": "4e84b453",
   "metadata": {
    "papermill": {
     "duration": 0.039446,
     "end_time": "2023-05-23T11:00:50.133775",
     "exception": false,
     "start_time": "2023-05-23T11:00:50.094329",
     "status": "completed"
    },
    "tags": []
   },
   "source": [
    "**Creating encoder and implimenting them into pipeline**"
   ]
  },
  {
   "cell_type": "code",
   "execution_count": 38,
   "id": "10b8d29a",
   "metadata": {
    "execution": {
     "iopub.execute_input": "2023-05-23T11:00:50.214979Z",
     "iopub.status.busy": "2023-05-23T11:00:50.214499Z",
     "iopub.status.idle": "2023-05-23T11:00:50.219873Z",
     "shell.execute_reply": "2023-05-23T11:00:50.218613Z"
    },
    "papermill": {
     "duration": 0.048029,
     "end_time": "2023-05-23T11:00:50.222194",
     "exception": false,
     "start_time": "2023-05-23T11:00:50.174165",
     "status": "completed"
    },
    "tags": []
   },
   "outputs": [],
   "source": [
    "from sklearn.pipeline import Pipeline"
   ]
  },
  {
   "cell_type": "code",
   "execution_count": 39,
   "id": "3d170388",
   "metadata": {
    "execution": {
     "iopub.execute_input": "2023-05-23T11:00:50.301753Z",
     "iopub.status.busy": "2023-05-23T11:00:50.301293Z",
     "iopub.status.idle": "2023-05-23T11:00:50.307066Z",
     "shell.execute_reply": "2023-05-23T11:00:50.306069Z"
    },
    "papermill": {
     "duration": 0.049826,
     "end_time": "2023-05-23T11:00:50.310030",
     "exception": false,
     "start_time": "2023-05-23T11:00:50.260204",
     "status": "completed"
    },
    "tags": []
   },
   "outputs": [],
   "source": [
    "pipe_categorical = Pipeline(\n",
    "    steps = [('ordinal_encoder', OrdinalEncoder(categories = [[ 'salvage', 'fair', 'unknown', 'good', 'excellent', 'like new', 'new']])),\n",
    "             ('one_hot_encoder', OneHotEncoder(sparse = False, drop = 'first'))]\n",
    ")"
   ]
  },
  {
   "cell_type": "code",
   "execution_count": 40,
   "id": "6923b3b0",
   "metadata": {
    "execution": {
     "iopub.execute_input": "2023-05-23T11:00:50.394390Z",
     "iopub.status.busy": "2023-05-23T11:00:50.393492Z",
     "iopub.status.idle": "2023-05-23T11:00:50.398863Z",
     "shell.execute_reply": "2023-05-23T11:00:50.397918Z"
    },
    "papermill": {
     "duration": 0.050989,
     "end_time": "2023-05-23T11:00:50.401624",
     "exception": false,
     "start_time": "2023-05-23T11:00:50.350635",
     "status": "completed"
    },
    "tags": []
   },
   "outputs": [],
   "source": [
    "pipe_numerical = Pipeline(\n",
    "    steps = [('standard_scaler', StandardScaler())]\n",
    ")"
   ]
  },
  {
   "cell_type": "code",
   "execution_count": 41,
   "id": "dfdb9ead",
   "metadata": {
    "execution": {
     "iopub.execute_input": "2023-05-23T11:00:50.481265Z",
     "iopub.status.busy": "2023-05-23T11:00:50.480387Z",
     "iopub.status.idle": "2023-05-23T11:00:50.486703Z",
     "shell.execute_reply": "2023-05-23T11:00:50.485715Z"
    },
    "papermill": {
     "duration": 0.049569,
     "end_time": "2023-05-23T11:00:50.490001",
     "exception": false,
     "start_time": "2023-05-23T11:00:50.440432",
     "status": "completed"
    },
    "tags": []
   },
   "outputs": [],
   "source": [
    "column_transformer = ColumnTransformer(transformers = [\n",
    "    ('condition_pipe_trans', pipe_categorical['ordinal_encoder'], ['condition']),\n",
    "    ('categorical_pipe_trans', pipe_categorical['one_hot_encoder'], ['model', 'region', 'manufacturer', 'fuel', 'cylinders','title_status', 'transmission', 'drive', 'type', 'paint_color']),\n",
    "    ('numerical_pipe_trans', pipe_numerical, ['odometer'])\n",
    "])"
   ]
  },
  {
   "cell_type": "markdown",
   "id": "feef2976",
   "metadata": {
    "papermill": {
     "duration": 0.039116,
     "end_time": "2023-05-23T11:00:50.567860",
     "exception": false,
     "start_time": "2023-05-23T11:00:50.528744",
     "status": "completed"
    },
    "tags": []
   },
   "source": [
    "**Train-test-split**"
   ]
  },
  {
   "cell_type": "code",
   "execution_count": 42,
   "id": "4afcbc5c",
   "metadata": {
    "execution": {
     "iopub.execute_input": "2023-05-23T11:00:50.647470Z",
     "iopub.status.busy": "2023-05-23T11:00:50.646613Z",
     "iopub.status.idle": "2023-05-23T11:00:50.785789Z",
     "shell.execute_reply": "2023-05-23T11:00:50.784460Z"
    },
    "papermill": {
     "duration": 0.182766,
     "end_time": "2023-05-23T11:00:50.788932",
     "exception": false,
     "start_time": "2023-05-23T11:00:50.606166",
     "status": "completed"
    },
    "tags": []
   },
   "outputs": [],
   "source": [
    "from sklearn.model_selection import train_test_split"
   ]
  },
  {
   "cell_type": "code",
   "execution_count": 43,
   "id": "4f1b2533",
   "metadata": {
    "execution": {
     "iopub.execute_input": "2023-05-23T11:00:50.870395Z",
     "iopub.status.busy": "2023-05-23T11:00:50.869837Z",
     "iopub.status.idle": "2023-05-23T11:00:51.254713Z",
     "shell.execute_reply": "2023-05-23T11:00:51.253275Z"
    },
    "papermill": {
     "duration": 0.429448,
     "end_time": "2023-05-23T11:00:51.257840",
     "exception": false,
     "start_time": "2023-05-23T11:00:50.828392",
     "status": "completed"
    },
    "tags": []
   },
   "outputs": [],
   "source": [
    "X_train, X_test, y_train, y_test = train_test_split(final_df.drop(['price'], axis = 1), final_df['price'], random_state = 42, test_size = .2)"
   ]
  },
  {
   "cell_type": "code",
   "execution_count": 44,
   "id": "0467faaa",
   "metadata": {
    "execution": {
     "iopub.execute_input": "2023-05-23T11:00:51.340998Z",
     "iopub.status.busy": "2023-05-23T11:00:51.340471Z",
     "iopub.status.idle": "2023-05-23T11:00:52.984021Z",
     "shell.execute_reply": "2023-05-23T11:00:52.982640Z"
    },
    "papermill": {
     "duration": 1.691457,
     "end_time": "2023-05-23T11:00:52.987348",
     "exception": false,
     "start_time": "2023-05-23T11:00:51.295891",
     "status": "completed"
    },
    "tags": []
   },
   "outputs": [
    {
     "name": "stderr",
     "output_type": "stream",
     "text": [
      "C:\\Users\\Asus\\PycharmProjects\\cars_prediction_project\\venv\\lib\\site-packages\\sklearn\\preprocessing\\_encoders.py:975: FutureWarning: `sparse` was renamed to `sparse_output` in version 1.2 and will be removed in 1.4. `sparse_output` is ignored unless you leave `sparse` to its default value.\n",
      "  warnings.warn(\n"
     ]
    }
   ],
   "source": [
    "X_train_tnf = column_transformer.fit_transform(X_train)"
   ]
  },
  {
   "cell_type": "code",
   "execution_count": 45,
   "id": "d27a15f1",
   "metadata": {
    "execution": {
     "iopub.execute_input": "2023-05-23T11:00:53.066201Z",
     "iopub.status.busy": "2023-05-23T11:00:53.065418Z",
     "iopub.status.idle": "2023-05-23T11:00:53.442358Z",
     "shell.execute_reply": "2023-05-23T11:00:53.440910Z"
    },
    "papermill": {
     "duration": 0.420293,
     "end_time": "2023-05-23T11:00:53.445549",
     "exception": false,
     "start_time": "2023-05-23T11:00:53.025256",
     "status": "completed"
    },
    "tags": []
   },
   "outputs": [],
   "source": [
    "X_test_tnf = column_transformer.transform(X_test)"
   ]
  },
  {
   "cell_type": "code",
   "execution_count": 46,
   "id": "d6a24e91",
   "metadata": {
    "execution": {
     "iopub.execute_input": "2023-05-23T11:00:53.524981Z",
     "iopub.status.busy": "2023-05-23T11:00:53.524185Z",
     "iopub.status.idle": "2023-05-23T11:00:53.531284Z",
     "shell.execute_reply": "2023-05-23T11:00:53.530038Z"
    },
    "papermill": {
     "duration": 0.050327,
     "end_time": "2023-05-23T11:00:53.533659",
     "exception": false,
     "start_time": "2023-05-23T11:00:53.483332",
     "status": "completed"
    },
    "tags": []
   },
   "outputs": [
    {
     "name": "stdout",
     "output_type": "stream",
     "text": [
      "(208233, 172)\n",
      "(52059, 172)\n"
     ]
    }
   ],
   "source": [
    "print(pd.DataFrame(X_train_tnf).shape)\n",
    "print(pd.DataFrame(X_test_tnf).shape)"
   ]
  },
  {
   "cell_type": "markdown",
   "id": "49c4580c",
   "metadata": {
    "papermill": {
     "duration": 0.038169,
     "end_time": "2023-05-23T11:00:53.609175",
     "exception": false,
     "start_time": "2023-05-23T11:00:53.571006",
     "status": "completed"
    },
    "tags": []
   },
   "source": [
    "# **Model Training**"
   ]
  },
  {
   "cell_type": "code",
   "execution_count": 47,
   "id": "1c59525e",
   "metadata": {
    "execution": {
     "iopub.execute_input": "2023-05-23T11:00:53.688052Z",
     "iopub.status.busy": "2023-05-23T11:00:53.687287Z",
     "iopub.status.idle": "2023-05-23T11:00:55.957487Z",
     "shell.execute_reply": "2023-05-23T11:00:55.956145Z"
    },
    "papermill": {
     "duration": 2.313211,
     "end_time": "2023-05-23T11:00:55.960696",
     "exception": false,
     "start_time": "2023-05-23T11:00:53.647485",
     "status": "completed"
    },
    "tags": []
   },
   "outputs": [],
   "source": [
    "from sklearn.metrics import mean_squared_error, mean_absolute_error,  r2_score, mean_squared_log_error\n",
    "from sklearn.linear_model import LinearRegression\n",
    "from sklearn.ensemble import RandomForestRegressor\n",
    "import warnings\n",
    "warnings.filterwarnings('ignore')"
   ]
  },
  {
   "cell_type": "code",
   "execution_count": 48,
   "id": "54550055",
   "metadata": {
    "execution": {
     "iopub.execute_input": "2023-05-23T11:00:56.040723Z",
     "iopub.status.busy": "2023-05-23T11:00:56.040293Z",
     "iopub.status.idle": "2023-05-23T11:00:56.048906Z",
     "shell.execute_reply": "2023-05-23T11:00:56.048032Z"
    },
    "papermill": {
     "duration": 0.051775,
     "end_time": "2023-05-23T11:00:56.051256",
     "exception": false,
     "start_time": "2023-05-23T11:00:55.999481",
     "status": "completed"
    },
    "tags": []
   },
   "outputs": [],
   "source": [
    "def result(y_test, y_pred):\n",
    "    r=[]\n",
    "    r.append('%.4f' % r2_score(y_test,y_pred))\n",
    "    r.append('%.4f' % (r2_score(y_test,y_pred)*100))\n",
    "    r.append('%.2f' % mean_squared_error(y_test, y_pred))\n",
    "    r.append('%.2f' % mean_absolute_error(y_test, y_pred))\n",
    "    r.append('%.2f' % np.sqrt(mean_squared_error(y_test, y_pred)))\n",
    "    \n",
    "    return (r)\n",
    "\n",
    "#dataframe that store the performance of each model\n",
    "score_data = pd.DataFrame(index=['R2 Score', 'Accuracy(%)', 'Mean Squared Error', 'Mean Absolute Error', 'Root MSE'])"
   ]
  },
  {
   "cell_type": "markdown",
   "id": "d088ce4e",
   "metadata": {
    "papermill": {
     "duration": 0.037612,
     "end_time": "2023-05-23T11:00:56.126928",
     "exception": false,
     "start_time": "2023-05-23T11:00:56.089316",
     "status": "completed"
    },
    "tags": []
   },
   "source": [
    "**Linear Regression**"
   ]
  },
  {
   "cell_type": "code",
   "execution_count": 49,
   "id": "e9ba648a",
   "metadata": {
    "execution": {
     "iopub.execute_input": "2023-05-23T11:00:56.205008Z",
     "iopub.status.busy": "2023-05-23T11:00:56.203586Z",
     "iopub.status.idle": "2023-05-23T11:01:01.719373Z",
     "shell.execute_reply": "2023-05-23T11:01:01.717698Z"
    },
    "papermill": {
     "duration": 5.560701,
     "end_time": "2023-05-23T11:01:01.725061",
     "exception": false,
     "start_time": "2023-05-23T11:00:56.164360",
     "status": "completed"
    },
    "tags": []
   },
   "outputs": [],
   "source": [
    "LR = LinearRegression()\n",
    "LR.fit(X_train_tnf, y_train)\n",
    "y_pred = LR.predict(X_test_tnf)"
   ]
  },
  {
   "cell_type": "code",
   "execution_count": 50,
   "id": "91b464df",
   "metadata": {
    "execution": {
     "iopub.execute_input": "2023-05-23T11:01:01.870930Z",
     "iopub.status.busy": "2023-05-23T11:01:01.870461Z",
     "iopub.status.idle": "2023-05-23T11:01:01.886688Z",
     "shell.execute_reply": "2023-05-23T11:01:01.884995Z"
    },
    "papermill": {
     "duration": 0.06385,
     "end_time": "2023-05-23T11:01:01.889506",
     "exception": false,
     "start_time": "2023-05-23T11:01:01.825656",
     "status": "completed"
    },
    "tags": []
   },
   "outputs": [
    {
     "name": "stdout",
     "output_type": "stream",
     "text": [
      "R2_score:  0.6557\n",
      "Mean squared error:  50303416.62\n",
      "Mean absolute error:  5360.35\n",
      "Root mean squared error:  7092.49\n"
     ]
    }
   ],
   "source": [
    "R2_score = r2_score(y_test, y_pred)*100\n",
    "score_lr = result(y_test, y_pred)\n",
    "score_data['Linear Regression'] = score_lr\n",
    "print('R2_score: ', score_lr[0])\n",
    "print('Mean squared error: ', score_lr[2])\n",
    "print('Mean absolute error: ', score_lr[3])\n",
    "print('Root mean squared error: ', score_lr[4])"
   ]
  },
  {
   "cell_type": "markdown",
   "id": "cd7a3aae",
   "metadata": {
    "papermill": {
     "duration": 0.038385,
     "end_time": "2023-05-23T11:02:20.925859",
     "exception": false,
     "start_time": "2023-05-23T11:02:20.887474",
     "status": "completed"
    },
    "tags": []
   },
   "source": [
    "**Random Forest Regression**"
   ]
  },
  {
   "cell_type": "code",
   "execution_count": 51,
   "id": "1d93b1a8",
   "metadata": {
    "execution": {
     "iopub.execute_input": "2023-05-23T11:02:21.006294Z",
     "iopub.status.busy": "2023-05-23T11:02:21.005060Z",
     "iopub.status.idle": "2023-05-23T11:07:16.005699Z",
     "shell.execute_reply": "2023-05-23T11:07:16.004644Z"
    },
    "papermill": {
     "duration": 295.043917,
     "end_time": "2023-05-23T11:07:16.008840",
     "exception": false,
     "start_time": "2023-05-23T11:02:20.964923",
     "status": "completed"
    },
    "tags": []
   },
   "outputs": [],
   "source": [
    "RFR = RandomForestRegressor(n_estimators=150,random_state=0, min_samples_leaf=1, max_features=0.3, n_jobs=-1, oob_score=True)\n",
    "RFR.fit(X_train_tnf, y_train)\n",
    "y_pred = RFR.predict(X_test_tnf)"
   ]
  },
  {
   "cell_type": "code",
   "execution_count": 52,
   "id": "a3c5116f",
   "metadata": {
    "execution": {
     "iopub.execute_input": "2023-05-23T11:07:16.089658Z",
     "iopub.status.busy": "2023-05-23T11:07:16.088432Z",
     "iopub.status.idle": "2023-05-23T11:07:16.100948Z",
     "shell.execute_reply": "2023-05-23T11:07:16.099864Z"
    },
    "papermill": {
     "duration": 0.055202,
     "end_time": "2023-05-23T11:07:16.103483",
     "exception": false,
     "start_time": "2023-05-23T11:07:16.048281",
     "status": "completed"
    },
    "tags": []
   },
   "outputs": [
    {
     "name": "stdout",
     "output_type": "stream",
     "text": [
      "R2 score:  0.8614\n",
      "Mean squared error:  20252329.45\n",
      "Mean absolute error:  2576.95\n",
      "Root mean squared error:  4500.26\n"
     ]
    }
   ],
   "source": [
    "score_rfr = result(y_test, y_pred)\n",
    "score_data['Random Forest Regression'] = score_rfr\n",
    "print('R2 score: ', score_rfr[0])\n",
    "print('Mean squared error: ', score_rfr[2])\n",
    "print('Mean absolute error: ', score_rfr[3])\n",
    "print('Root mean squared error: ', score_rfr[4])"
   ]
  },
  {
   "cell_type": "code",
   "execution_count": 53,
   "outputs": [
    {
     "name": "stdout",
     "output_type": "stream",
     "text": [
      "odometer: 0.4144900841366463\n",
      "drive_fwd: 0.06736194833786502\n",
      "fuel_gas: 0.053373822361227376\n",
      "transmission_other: 0.04941305237394646\n",
      "cylinders_4 cylinders: 0.029733729951570313\n",
      "condition: 0.028345456154084302\n",
      "type_pickup: 0.02543377708559909\n",
      "type_truck: 0.023489071713413252\n",
      "cylinders_8 cylinders: 0.017721236396988204\n",
      "drive_unknown: 0.014785099208000672\n",
      "drive_rwd: 0.012171985061342615\n",
      "manufacturer_ram: 0.011989260508210784\n",
      "type_sedan: 0.010324439772834723\n",
      "paint_color_white: 0.009013267414660383\n",
      "cylinders_unknown: 0.008509765707556644\n",
      "manufacturer_ford: 0.008063691030725425\n",
      "type_unknown: 0.007836735874222985\n",
      "paint_color_unknown: 0.007797766314802394\n",
      "cylinders_6 cylinders: 0.00767927771308868\n",
      "model_others: 0.006492307951486531\n",
      "region_others: 0.006196085076245756\n",
      "fuel_other: 0.00592292422474301\n",
      "manufacturer_chevrolet: 0.005921581097143916\n",
      "manufacturer_others: 0.005559158230488179\n",
      "manufacturer_toyota: 0.005352615827711894\n",
      "type_other: 0.005263441709270918\n",
      "paint_color_silver: 0.004946570447235477\n",
      "manufacturer_gmc: 0.004720031711047348\n",
      "type_hatchback: 0.0043206689885765285\n",
      "paint_color_red: 0.004261308794659468\n",
      "paint_color_blue: 0.004187455649097565\n",
      "title_status_rebuilt: 0.004067535570701001\n",
      "fuel_hybrid: 0.003917725318862372\n",
      "manufacturer_mercedes-benz: 0.003847813009723182\n",
      "manufacturer_nissan: 0.0036851051467421893\n",
      "manufacturer_bmw: 0.0036039121248112203\n",
      "transmission_manual: 0.0035687594948962446\n",
      "manufacturer_audi: 0.0031059071339882825\n",
      "manufacturer_lexus: 0.0030882417507644595\n",
      "manufacturer_cadillac: 0.0029708534553723066\n",
      "paint_color_grey: 0.0028391799610958833\n",
      "manufacturer_jeep: 0.002784154527224199\n",
      "title_status_salvage: 0.0025502049710991975\n",
      "model_f-150: 0.0024079854095188\n",
      "type_van: 0.002347234636326272\n",
      "manufacturer_dodge: 0.0021846657138087683\n",
      "manufacturer_hyundai: 0.0021664914642159057\n",
      "type_coupe: 0.0021500499548783667\n",
      "manufacturer_honda: 0.001998463354263219\n",
      "manufacturer_kia: 0.0019609905617974164\n",
      "manufacturer_volkswagen: 0.0019260373690329138\n",
      "type_convertible: 0.0016267100617099659\n",
      "paint_color_brown: 0.0015635963465872858\n",
      "title_status_unknown: 0.0014945764677641187\n",
      "fuel_unknown: 0.0014896070256141757\n",
      "type_wagon: 0.0014627428247901955\n",
      "manufacturer_chrysler: 0.0014527752032570855\n",
      "model_2500: 0.0014501598248592496\n",
      "model_wrangler unlimited: 0.0014347816792667704\n",
      "manufacturer_subaru: 0.0014171894726188758\n",
      "paint_color_green: 0.0013594705153534992\n",
      "model_silverado 1500: 0.0013006752310360406\n",
      "model_wrangler: 0.001202283891458092\n",
      "model_silverado 2500hd: 0.0011986756649225816\n",
      "paint_color_custom: 0.0011943858859318937\n",
      "model_3500: 0.0011062963374023622\n",
      "fuel_electric: 0.0010500861292238514\n",
      "model_tahoe: 0.0010358058944280393\n",
      "region_nashville: 0.001023480973282863\n",
      "region_denver: 0.000931356655627152\n",
      "model_silverado: 0.0008604336889814272\n",
      "region_south jersey: 0.0008297404833650805\n",
      "region_seattle-tacoma: 0.0008240905566515594\n",
      "region_orange county: 0.0007924019268231399\n",
      "region_north jersey: 0.0007849977867374459\n",
      "region_tampa bay area: 0.0007759830706602073\n",
      "model_explorer: 0.0007716636065600553\n",
      "region_central NJ: 0.0007642483780560303\n",
      "model_escape: 0.0007615980228048278\n",
      "region_boise: 0.0007599387132668357\n",
      "region_dallas / fort worth: 0.0007540847200889693\n",
      "region_portland: 0.0007373935323964538\n",
      "title_status_lien: 0.000731114312757129\n",
      "region_oklahoma city: 0.0007248900379744094\n",
      "region_new york city: 0.000703542928649953\n",
      "region_phoenix: 0.0007025512559636676\n",
      "region_st louis, MO: 0.0006997786898974306\n",
      "region_grand rapids: 0.0006989119851446988\n",
      "region_houston: 0.0006914339760504481\n",
      "region_colorado springs: 0.0006885499343096903\n",
      "region_austin: 0.0006816384548764416\n",
      "region_atlanta: 0.0006772696303315491\n",
      "region_spokane / coeur d'alene: 0.0006771695960706831\n",
      "region_minneapolis / st paul: 0.0006748068466476463\n",
      "region_chicago: 0.0006601283804886359\n",
      "region_pittsburgh: 0.0006582527432243712\n",
      "region_jacksonville: 0.0006510768080603583\n",
      "region_tucson: 0.0006351583658080154\n",
      "region_kansas city, MO: 0.0006330404278854898\n",
      "region_stockton: 0.0006279595396833439\n",
      "region_sacramento: 0.0006276361016684516\n",
      "region_charlotte: 0.0006269655033565967\n",
      "region_des moines: 0.0006247796726579536\n",
      "region_reno / tahoe: 0.0006222459001141171\n",
      "region_washington, DC: 0.0006175545856565879\n",
      "region_long island: 0.0006152301086435106\n",
      "region_detroit metro: 0.0006118138831682409\n",
      "region_inland empire: 0.0006093334267000908\n",
      "region_ft myers / SW florida: 0.0006089862548711639\n",
      "model_f-250: 0.0006030214137620136\n",
      "region_los angeles: 0.0005959714503188143\n",
      "region_albuquerque: 0.0005943497328204099\n",
      "model_focus: 0.0005840955160531901\n",
      "transmission_unknown: 0.0005771139155616507\n",
      "region_orlando: 0.0005764419902159687\n",
      "region_milwaukee: 0.0005755667584640601\n",
      "region_columbus: 0.0005745896917388658\n",
      "region_baltimore: 0.0005735205894308703\n",
      "region_boston: 0.0005706858064465422\n",
      "region_raleigh / durham / CH: 0.0005676867603307031\n",
      "model_sierra 1500: 0.000565675742663665\n",
      "region_san diego: 0.0005641605331049342\n",
      "region_las vegas: 0.0005532197769869334\n",
      "model_tundra: 0.0005453959598037184\n",
      "paint_color_orange: 0.0005422605291646965\n",
      "model_f150: 0.0005289205421134803\n",
      "region_cincinnati: 0.0005190869652861801\n",
      "paint_color_yellow: 0.0005177118059305013\n",
      "model_tacoma: 0.0005145675250173571\n",
      "region_rochester: 0.00047126767719169236\n",
      "type_mini-van: 0.0004021242203520258\n",
      "model_suburban: 0.00038102500736863273\n",
      "model_sierra: 0.0003791780442360862\n",
      "model_corvette: 0.00036075655291617286\n",
      "model_mustang: 0.00034066403797970056\n",
      "model_grand cherokee: 0.00033961083031153774\n",
      "model_fusion: 0.00032510687125226405\n",
      "model_equinox: 0.00032097817378618973\n",
      "cylinders_other: 0.0003076114295892256\n",
      "model_cruze: 0.00030425170671039107\n",
      "cylinders_5 cylinders: 0.00029380627145805463\n",
      "model_rav4: 0.0002804014603974977\n",
      "model_edge: 0.0002740782899282175\n",
      "model_sienna: 0.00025290228828967\n",
      "model_accord: 0.00023733466282049065\n",
      "model_camry: 0.00021456379868401858\n",
      "model_impala: 0.00020949124288603715\n",
      "model_charger: 0.0002071696092196528\n",
      "paint_color_purple: 0.00019822974250592343\n",
      "model_malibu: 0.00019585059659947494\n",
      "model_prius: 0.0001776365926474038\n",
      "model_civic: 0.00017701667166168596\n",
      "model_camaro: 0.00017268714497942162\n",
      "model_corolla: 0.00017120189449528655\n",
      "type_offroad: 0.00015897218240958864\n",
      "model_rogue: 0.00015536793628419463\n",
      "model_pilot: 0.00015481965384327856\n",
      "model_odyssey: 0.00015175740625059857\n",
      "model_cr-v: 0.00014812444042100294\n",
      "cylinders_3 cylinders: 0.00014221275858628676\n",
      "model_grand caravan: 0.00014216442358242168\n",
      "type_bus: 0.0001392717236063162\n",
      "model_sentra: 0.00010865286564694291\n",
      "model_outback: 0.00010338851195395807\n",
      "model_altima: 0.00010209759205431133\n",
      "model_forester: 8.244633738374109e-05\n",
      "model_elantra: 7.098306286762546e-05\n",
      "model_sonata: 6.549377131401844e-05\n",
      "model_jetta: 6.36612192553962e-05\n",
      "cylinders_12 cylinders: 6.357499075472561e-05\n",
      "title_status_parts only: 5.1432467037087645e-05\n",
      "title_status_missing: 1.4613157466079483e-05\n"
     ]
    }
   ],
   "source": [
    "def get_transformed_feature_names(column_transformer):\n",
    "    transformed_feature_names = []\n",
    "\n",
    "    for transformer_info in column_transformer.transformers_:\n",
    "        transformer_name, transformer, original_features = transformer_info\n",
    "        if transformer_name == 'remainder':\n",
    "            continue\n",
    "\n",
    "        if hasattr(transformer, 'get_feature_names_out'):\n",
    "            # For OneHotEncoder\n",
    "            transformed_names = transformer.get_feature_names_out(original_features)\n",
    "        else:\n",
    "            # For other transformers like OrdinalEncoder\n",
    "            transformed_names = original_features\n",
    "\n",
    "        transformed_feature_names.extend(transformed_names)\n",
    "\n",
    "    return transformed_feature_names\n",
    "\n",
    "# Get transformed feature names\n",
    "transformed_feature_names = get_transformed_feature_names(column_transformer)\n",
    "\n",
    "# Get feature importances\n",
    "importances = RFR.feature_importances_\n",
    "\n",
    "# Map features to their importances\n",
    "feature_importances = dict(zip(transformed_feature_names, importances))\n",
    "\n",
    "# Sort features by importance\n",
    "sorted_importances = sorted(feature_importances.items(), key=lambda x: x[1], reverse=True)\n",
    "\n",
    "# Display the sorted feature importances\n",
    "for feature, importance in sorted_importances:\n",
    "    print(f\"{feature}: {importance}\")"
   ],
   "metadata": {
    "collapsed": false
   }
  },
  {
   "cell_type": "code",
   "execution_count": 54,
   "outputs": [
    {
     "data": {
      "text/plain": "<Figure size 1000x800 with 1 Axes>",
      "image/png": "[encoded data removed]"
     },
     "metadata": {},
     "output_type": "display_data"
    }
   ],
   "source": [
    "import matplotlib.pyplot as plt\n",
    "import seaborn as sns\n",
    "import pandas as pd\n",
    "\n",
    "# Assuming 'sorted_importances' is from the previous step\n",
    "\n",
    "# Convert to DataFrame for easier plotting\n",
    "importances_df = pd.DataFrame(sorted_importances, columns=['Feature', 'Importance'])\n",
    "\n",
    "# Select the top 10 features\n",
    "top_10_importances_df = importances_df.head(20)\n",
    "\n",
    "# Create the plot\n",
    "plt.figure(figsize=(10, 8))\n",
    "sns.barplot(x='Importance', y='Feature', data=top_10_importances_df)\n",
    "\n",
    "# Add labels and title\n",
    "plt.xlabel('Importance')\n",
    "plt.ylabel('Feature')\n",
    "plt.title('Top 10 Feature Importances from Random Forest Model')\n",
    "\n",
    "# Show the plot\n",
    "plt.show()\n"
   ],
   "metadata": {
    "collapsed": false
   }
  }
 ],
 "metadata": {
  "kernelspec": {
   "display_name": "Python 3",
   "language": "python",
   "name": "python3"
  },
  "language_info": {
   "codemirror_mode": {
    "name": "ipython",
    "version": 3
   },
   "file_extension": ".py",
   "mimetype": "text/x-python",
   "name": "python",
   "nbconvert_exporter": "python",
   "pygments_lexer": "ipython3",
   "version": "3.10.10"
  },
  "papermill": {
   "default_parameters": {},
   "duration": 3909.883354,
   "end_time": "2023-05-23T12:03:17.629552",
   "environment_variables": {},
   "exception": null,
   "input_path": "__notebook__.ipynb",
   "output_path": "__notebook__.ipynb",
   "parameters": {},
   "start_time": "2023-05-23T10:58:07.746198",
   "version": "2.4.0"
  }
 },
 "nbformat": 4,
 "nbformat_minor": 5
}
